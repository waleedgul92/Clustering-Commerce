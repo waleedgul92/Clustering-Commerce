{
 "cells": [
  {
   "cell_type": "code",
   "execution_count": 1,
   "id": "d256119e",
   "metadata": {
    "_cell_guid": "b1076dfc-b9ad-4769-8c92-a6c4dae69d19",
    "_uuid": "8f2839f25d086af736a60e9eeb907d3b93b6e0e5",
    "execution": {
     "iopub.execute_input": "2023-01-20T19:38:15.265278Z",
     "iopub.status.busy": "2023-01-20T19:38:15.264882Z",
     "iopub.status.idle": "2023-01-20T19:38:15.279771Z",
     "shell.execute_reply": "2023-01-20T19:38:15.279162Z"
    },
    "papermill": {
     "duration": 0.028899,
     "end_time": "2023-01-20T19:38:15.281961",
     "exception": false,
     "start_time": "2023-01-20T19:38:15.253062",
     "status": "completed"
    },
    "tags": []
   },
   "outputs": [
    {
     "name": "stdout",
     "output_type": "stream",
     "text": [
      "/kaggle/input/ecommerce-data/data.csv\n"
     ]
    }
   ],
   "source": [
    "# This Python 3 environment comes with many helpful analytics libraries installed\n",
    "# It is defined by the kaggle/python Docker image: https://github.com/kaggle/docker-python\n",
    "# For example, here's several helpful packages to load\n",
    "\n",
    "import numpy as np # linear algebra\n",
    "import pandas as pd # data processing, CSV file I/O (e.g. pd.read_csv)\n",
    "\n",
    "# Input data files are available in the read-only \"../input/\" directory\n",
    "# For example, running this (by clicking run or pressing Shift+Enter) will list all files under the input directory\n",
    "\n",
    "import os\n",
    "for dirname, _, filenames in os.walk('/kaggle/input'):\n",
    "    for filename in filenames:\n",
    "        print(os.path.join(dirname, filename))\n",
    "\n",
    "# You can write up to 20GB to the current directory (/kaggle/working/) that gets preserved as output when you create a version using \"Save & Run All\" \n",
    "# You can also write temporary files to /kaggle/temp/, but they won't be saved outside of the current session"
   ]
  },
  {
   "cell_type": "code",
   "execution_count": 2,
   "id": "51fb16ca",
   "metadata": {
    "execution": {
     "iopub.execute_input": "2023-01-20T19:38:15.300876Z",
     "iopub.status.busy": "2023-01-20T19:38:15.300547Z",
     "iopub.status.idle": "2023-01-20T19:38:16.350830Z",
     "shell.execute_reply": "2023-01-20T19:38:16.350147Z"
    },
    "papermill": {
     "duration": 1.062118,
     "end_time": "2023-01-20T19:38:16.353164",
     "exception": false,
     "start_time": "2023-01-20T19:38:15.291046",
     "status": "completed"
    },
    "tags": []
   },
   "outputs": [],
   "source": [
    "import pandas as pd\n",
    "import seaborn as sns\n",
    "import matplotlib.pyplot as plt"
   ]
  },
  {
   "cell_type": "code",
   "execution_count": 3,
   "id": "10fabf8b",
   "metadata": {
    "execution": {
     "iopub.execute_input": "2023-01-20T19:38:16.373200Z",
     "iopub.status.busy": "2023-01-20T19:38:16.372358Z",
     "iopub.status.idle": "2023-01-20T19:38:17.656878Z",
     "shell.execute_reply": "2023-01-20T19:38:17.656220Z"
    },
    "papermill": {
     "duration": 1.297542,
     "end_time": "2023-01-20T19:38:17.659373",
     "exception": false,
     "start_time": "2023-01-20T19:38:16.361831",
     "status": "completed"
    },
    "tags": []
   },
   "outputs": [],
   "source": [
    "df=pd.read_csv(\"/kaggle/input/ecommerce-data/data.csv\",  encoding= 'unicode_escape') "
   ]
  },
  {
   "cell_type": "code",
   "execution_count": 4,
   "id": "a7f9394e",
   "metadata": {
    "execution": {
     "iopub.execute_input": "2023-01-20T19:38:17.680276Z",
     "iopub.status.busy": "2023-01-20T19:38:17.679601Z",
     "iopub.status.idle": "2023-01-20T19:38:17.704804Z",
     "shell.execute_reply": "2023-01-20T19:38:17.704165Z"
    },
    "papermill": {
     "duration": 0.038384,
     "end_time": "2023-01-20T19:38:17.706779",
     "exception": false,
     "start_time": "2023-01-20T19:38:17.668395",
     "status": "completed"
    },
    "tags": []
   },
   "outputs": [
    {
     "data": {
      "text/html": [
       "<div>\n",
       "<style scoped>\n",
       "    .dataframe tbody tr th:only-of-type {\n",
       "        vertical-align: middle;\n",
       "    }\n",
       "\n",
       "    .dataframe tbody tr th {\n",
       "        vertical-align: top;\n",
       "    }\n",
       "\n",
       "    .dataframe thead th {\n",
       "        text-align: right;\n",
       "    }\n",
       "</style>\n",
       "<table border=\"1\" class=\"dataframe\">\n",
       "  <thead>\n",
       "    <tr style=\"text-align: right;\">\n",
       "      <th></th>\n",
       "      <th>InvoiceNo</th>\n",
       "      <th>StockCode</th>\n",
       "      <th>Description</th>\n",
       "      <th>Quantity</th>\n",
       "      <th>InvoiceDate</th>\n",
       "      <th>UnitPrice</th>\n",
       "      <th>CustomerID</th>\n",
       "      <th>Country</th>\n",
       "    </tr>\n",
       "  </thead>\n",
       "  <tbody>\n",
       "    <tr>\n",
       "      <th>0</th>\n",
       "      <td>536365</td>\n",
       "      <td>85123A</td>\n",
       "      <td>WHITE HANGING HEART T-LIGHT HOLDER</td>\n",
       "      <td>6</td>\n",
       "      <td>12/1/2010 8:26</td>\n",
       "      <td>2.55</td>\n",
       "      <td>17850.0</td>\n",
       "      <td>United Kingdom</td>\n",
       "    </tr>\n",
       "    <tr>\n",
       "      <th>1</th>\n",
       "      <td>536365</td>\n",
       "      <td>71053</td>\n",
       "      <td>WHITE METAL LANTERN</td>\n",
       "      <td>6</td>\n",
       "      <td>12/1/2010 8:26</td>\n",
       "      <td>3.39</td>\n",
       "      <td>17850.0</td>\n",
       "      <td>United Kingdom</td>\n",
       "    </tr>\n",
       "    <tr>\n",
       "      <th>2</th>\n",
       "      <td>536365</td>\n",
       "      <td>84406B</td>\n",
       "      <td>CREAM CUPID HEARTS COAT HANGER</td>\n",
       "      <td>8</td>\n",
       "      <td>12/1/2010 8:26</td>\n",
       "      <td>2.75</td>\n",
       "      <td>17850.0</td>\n",
       "      <td>United Kingdom</td>\n",
       "    </tr>\n",
       "    <tr>\n",
       "      <th>3</th>\n",
       "      <td>536365</td>\n",
       "      <td>84029G</td>\n",
       "      <td>KNITTED UNION FLAG HOT WATER BOTTLE</td>\n",
       "      <td>6</td>\n",
       "      <td>12/1/2010 8:26</td>\n",
       "      <td>3.39</td>\n",
       "      <td>17850.0</td>\n",
       "      <td>United Kingdom</td>\n",
       "    </tr>\n",
       "    <tr>\n",
       "      <th>4</th>\n",
       "      <td>536365</td>\n",
       "      <td>84029E</td>\n",
       "      <td>RED WOOLLY HOTTIE WHITE HEART.</td>\n",
       "      <td>6</td>\n",
       "      <td>12/1/2010 8:26</td>\n",
       "      <td>3.39</td>\n",
       "      <td>17850.0</td>\n",
       "      <td>United Kingdom</td>\n",
       "    </tr>\n",
       "  </tbody>\n",
       "</table>\n",
       "</div>"
      ],
      "text/plain": [
       "  InvoiceNo StockCode                          Description  Quantity  \\\n",
       "0    536365    85123A   WHITE HANGING HEART T-LIGHT HOLDER         6   \n",
       "1    536365     71053                  WHITE METAL LANTERN         6   \n",
       "2    536365    84406B       CREAM CUPID HEARTS COAT HANGER         8   \n",
       "3    536365    84029G  KNITTED UNION FLAG HOT WATER BOTTLE         6   \n",
       "4    536365    84029E       RED WOOLLY HOTTIE WHITE HEART.         6   \n",
       "\n",
       "      InvoiceDate  UnitPrice  CustomerID         Country  \n",
       "0  12/1/2010 8:26       2.55     17850.0  United Kingdom  \n",
       "1  12/1/2010 8:26       3.39     17850.0  United Kingdom  \n",
       "2  12/1/2010 8:26       2.75     17850.0  United Kingdom  \n",
       "3  12/1/2010 8:26       3.39     17850.0  United Kingdom  \n",
       "4  12/1/2010 8:26       3.39     17850.0  United Kingdom  "
      ]
     },
     "execution_count": 4,
     "metadata": {},
     "output_type": "execute_result"
    }
   ],
   "source": [
    "df.head(5) "
   ]
  },
  {
   "cell_type": "code",
   "execution_count": 5,
   "id": "55514869",
   "metadata": {
    "execution": {
     "iopub.execute_input": "2023-01-20T19:38:17.728006Z",
     "iopub.status.busy": "2023-01-20T19:38:17.726612Z",
     "iopub.status.idle": "2023-01-20T19:38:17.821698Z",
     "shell.execute_reply": "2023-01-20T19:38:17.821070Z"
    },
    "papermill": {
     "duration": 0.108239,
     "end_time": "2023-01-20T19:38:17.824031",
     "exception": false,
     "start_time": "2023-01-20T19:38:17.715792",
     "status": "completed"
    },
    "tags": []
   },
   "outputs": [
    {
     "data": {
      "text/html": [
       "<div>\n",
       "<style scoped>\n",
       "    .dataframe tbody tr th:only-of-type {\n",
       "        vertical-align: middle;\n",
       "    }\n",
       "\n",
       "    .dataframe tbody tr th {\n",
       "        vertical-align: top;\n",
       "    }\n",
       "\n",
       "    .dataframe thead th {\n",
       "        text-align: right;\n",
       "    }\n",
       "</style>\n",
       "<table border=\"1\" class=\"dataframe\">\n",
       "  <thead>\n",
       "    <tr style=\"text-align: right;\">\n",
       "      <th></th>\n",
       "      <th>Quantity</th>\n",
       "      <th>UnitPrice</th>\n",
       "      <th>CustomerID</th>\n",
       "    </tr>\n",
       "  </thead>\n",
       "  <tbody>\n",
       "    <tr>\n",
       "      <th>count</th>\n",
       "      <td>541909.000000</td>\n",
       "      <td>541909.000000</td>\n",
       "      <td>406829.000000</td>\n",
       "    </tr>\n",
       "    <tr>\n",
       "      <th>mean</th>\n",
       "      <td>9.552250</td>\n",
       "      <td>4.611114</td>\n",
       "      <td>15287.690570</td>\n",
       "    </tr>\n",
       "    <tr>\n",
       "      <th>std</th>\n",
       "      <td>218.081158</td>\n",
       "      <td>96.759853</td>\n",
       "      <td>1713.600303</td>\n",
       "    </tr>\n",
       "    <tr>\n",
       "      <th>min</th>\n",
       "      <td>-80995.000000</td>\n",
       "      <td>-11062.060000</td>\n",
       "      <td>12346.000000</td>\n",
       "    </tr>\n",
       "    <tr>\n",
       "      <th>25%</th>\n",
       "      <td>1.000000</td>\n",
       "      <td>1.250000</td>\n",
       "      <td>13953.000000</td>\n",
       "    </tr>\n",
       "    <tr>\n",
       "      <th>50%</th>\n",
       "      <td>3.000000</td>\n",
       "      <td>2.080000</td>\n",
       "      <td>15152.000000</td>\n",
       "    </tr>\n",
       "    <tr>\n",
       "      <th>75%</th>\n",
       "      <td>10.000000</td>\n",
       "      <td>4.130000</td>\n",
       "      <td>16791.000000</td>\n",
       "    </tr>\n",
       "    <tr>\n",
       "      <th>max</th>\n",
       "      <td>80995.000000</td>\n",
       "      <td>38970.000000</td>\n",
       "      <td>18287.000000</td>\n",
       "    </tr>\n",
       "  </tbody>\n",
       "</table>\n",
       "</div>"
      ],
      "text/plain": [
       "            Quantity      UnitPrice     CustomerID\n",
       "count  541909.000000  541909.000000  406829.000000\n",
       "mean        9.552250       4.611114   15287.690570\n",
       "std       218.081158      96.759853    1713.600303\n",
       "min    -80995.000000  -11062.060000   12346.000000\n",
       "25%         1.000000       1.250000   13953.000000\n",
       "50%         3.000000       2.080000   15152.000000\n",
       "75%        10.000000       4.130000   16791.000000\n",
       "max     80995.000000   38970.000000   18287.000000"
      ]
     },
     "execution_count": 5,
     "metadata": {},
     "output_type": "execute_result"
    }
   ],
   "source": [
    "df.describe()"
   ]
  },
  {
   "cell_type": "code",
   "execution_count": 6,
   "id": "a361d58a",
   "metadata": {
    "execution": {
     "iopub.execute_input": "2023-01-20T19:38:17.843875Z",
     "iopub.status.busy": "2023-01-20T19:38:17.843545Z",
     "iopub.status.idle": "2023-01-20T19:38:17.848248Z",
     "shell.execute_reply": "2023-01-20T19:38:17.847146Z"
    },
    "papermill": {
     "duration": 0.017562,
     "end_time": "2023-01-20T19:38:17.850894",
     "exception": false,
     "start_time": "2023-01-20T19:38:17.833332",
     "status": "completed"
    },
    "tags": []
   },
   "outputs": [],
   "source": [
    "# df.drop(\"InvoiceNo\",axis=1,inplace=True)\n",
    "# df.drop(\"CustomerID\",axis=1,inplace=True)"
   ]
  },
  {
   "cell_type": "code",
   "execution_count": 7,
   "id": "3eb7d4dc",
   "metadata": {
    "execution": {
     "iopub.execute_input": "2023-01-20T19:38:17.871809Z",
     "iopub.status.busy": "2023-01-20T19:38:17.871472Z",
     "iopub.status.idle": "2023-01-20T19:38:19.931829Z",
     "shell.execute_reply": "2023-01-20T19:38:19.930442Z"
    },
    "papermill": {
     "duration": 2.073865,
     "end_time": "2023-01-20T19:38:19.934490",
     "exception": false,
     "start_time": "2023-01-20T19:38:17.860625",
     "status": "completed"
    },
    "tags": []
   },
   "outputs": [],
   "source": [
    "date = pd.to_datetime(df.InvoiceDate)"
   ]
  },
  {
   "cell_type": "code",
   "execution_count": 8,
   "id": "cffdc6c7",
   "metadata": {
    "execution": {
     "iopub.execute_input": "2023-01-20T19:38:19.953896Z",
     "iopub.status.busy": "2023-01-20T19:38:19.953557Z",
     "iopub.status.idle": "2023-01-20T19:38:26.701724Z",
     "shell.execute_reply": "2023-01-20T19:38:26.700733Z"
    },
    "papermill": {
     "duration": 6.760257,
     "end_time": "2023-01-20T19:38:26.703896",
     "exception": false,
     "start_time": "2023-01-20T19:38:19.943639",
     "status": "completed"
    },
    "tags": []
   },
   "outputs": [],
   "source": [
    "df[\"day\"] = date.map(lambda x: x.day)\n",
    "df[\"month\"] =date.map(lambda x: x.month)\n",
    "df[\"year\"] = date.map(lambda x: x.year)\n",
    "df[\"Date\"]=date.dt.date"
   ]
  },
  {
   "cell_type": "code",
   "execution_count": 9,
   "id": "56bdf5ad",
   "metadata": {
    "execution": {
     "iopub.execute_input": "2023-01-20T19:38:26.723505Z",
     "iopub.status.busy": "2023-01-20T19:38:26.723135Z",
     "iopub.status.idle": "2023-01-20T19:38:26.728631Z",
     "shell.execute_reply": "2023-01-20T19:38:26.727186Z"
    },
    "papermill": {
     "duration": 0.018449,
     "end_time": "2023-01-20T19:38:26.731302",
     "exception": false,
     "start_time": "2023-01-20T19:38:26.712853",
     "status": "completed"
    },
    "tags": []
   },
   "outputs": [],
   "source": [
    "# df.drop(\"InvoiceDate\",axis=1,inplace=True)"
   ]
  },
  {
   "cell_type": "code",
   "execution_count": 10,
   "id": "68257e06",
   "metadata": {
    "execution": {
     "iopub.execute_input": "2023-01-20T19:38:26.750224Z",
     "iopub.status.busy": "2023-01-20T19:38:26.749890Z",
     "iopub.status.idle": "2023-01-20T19:38:26.767599Z",
     "shell.execute_reply": "2023-01-20T19:38:26.766039Z"
    },
    "papermill": {
     "duration": 0.030394,
     "end_time": "2023-01-20T19:38:26.770408",
     "exception": false,
     "start_time": "2023-01-20T19:38:26.740014",
     "status": "completed"
    },
    "tags": []
   },
   "outputs": [
    {
     "data": {
      "text/html": [
       "<div>\n",
       "<style scoped>\n",
       "    .dataframe tbody tr th:only-of-type {\n",
       "        vertical-align: middle;\n",
       "    }\n",
       "\n",
       "    .dataframe tbody tr th {\n",
       "        vertical-align: top;\n",
       "    }\n",
       "\n",
       "    .dataframe thead th {\n",
       "        text-align: right;\n",
       "    }\n",
       "</style>\n",
       "<table border=\"1\" class=\"dataframe\">\n",
       "  <thead>\n",
       "    <tr style=\"text-align: right;\">\n",
       "      <th></th>\n",
       "      <th>InvoiceNo</th>\n",
       "      <th>StockCode</th>\n",
       "      <th>Description</th>\n",
       "      <th>Quantity</th>\n",
       "      <th>InvoiceDate</th>\n",
       "      <th>UnitPrice</th>\n",
       "      <th>CustomerID</th>\n",
       "      <th>Country</th>\n",
       "      <th>day</th>\n",
       "      <th>month</th>\n",
       "      <th>year</th>\n",
       "      <th>Date</th>\n",
       "    </tr>\n",
       "  </thead>\n",
       "  <tbody>\n",
       "    <tr>\n",
       "      <th>0</th>\n",
       "      <td>536365</td>\n",
       "      <td>85123A</td>\n",
       "      <td>WHITE HANGING HEART T-LIGHT HOLDER</td>\n",
       "      <td>6</td>\n",
       "      <td>12/1/2010 8:26</td>\n",
       "      <td>2.55</td>\n",
       "      <td>17850.0</td>\n",
       "      <td>United Kingdom</td>\n",
       "      <td>1</td>\n",
       "      <td>12</td>\n",
       "      <td>2010</td>\n",
       "      <td>2010-12-01</td>\n",
       "    </tr>\n",
       "    <tr>\n",
       "      <th>1</th>\n",
       "      <td>536365</td>\n",
       "      <td>71053</td>\n",
       "      <td>WHITE METAL LANTERN</td>\n",
       "      <td>6</td>\n",
       "      <td>12/1/2010 8:26</td>\n",
       "      <td>3.39</td>\n",
       "      <td>17850.0</td>\n",
       "      <td>United Kingdom</td>\n",
       "      <td>1</td>\n",
       "      <td>12</td>\n",
       "      <td>2010</td>\n",
       "      <td>2010-12-01</td>\n",
       "    </tr>\n",
       "    <tr>\n",
       "      <th>2</th>\n",
       "      <td>536365</td>\n",
       "      <td>84406B</td>\n",
       "      <td>CREAM CUPID HEARTS COAT HANGER</td>\n",
       "      <td>8</td>\n",
       "      <td>12/1/2010 8:26</td>\n",
       "      <td>2.75</td>\n",
       "      <td>17850.0</td>\n",
       "      <td>United Kingdom</td>\n",
       "      <td>1</td>\n",
       "      <td>12</td>\n",
       "      <td>2010</td>\n",
       "      <td>2010-12-01</td>\n",
       "    </tr>\n",
       "    <tr>\n",
       "      <th>3</th>\n",
       "      <td>536365</td>\n",
       "      <td>84029G</td>\n",
       "      <td>KNITTED UNION FLAG HOT WATER BOTTLE</td>\n",
       "      <td>6</td>\n",
       "      <td>12/1/2010 8:26</td>\n",
       "      <td>3.39</td>\n",
       "      <td>17850.0</td>\n",
       "      <td>United Kingdom</td>\n",
       "      <td>1</td>\n",
       "      <td>12</td>\n",
       "      <td>2010</td>\n",
       "      <td>2010-12-01</td>\n",
       "    </tr>\n",
       "    <tr>\n",
       "      <th>4</th>\n",
       "      <td>536365</td>\n",
       "      <td>84029E</td>\n",
       "      <td>RED WOOLLY HOTTIE WHITE HEART.</td>\n",
       "      <td>6</td>\n",
       "      <td>12/1/2010 8:26</td>\n",
       "      <td>3.39</td>\n",
       "      <td>17850.0</td>\n",
       "      <td>United Kingdom</td>\n",
       "      <td>1</td>\n",
       "      <td>12</td>\n",
       "      <td>2010</td>\n",
       "      <td>2010-12-01</td>\n",
       "    </tr>\n",
       "    <tr>\n",
       "      <th>5</th>\n",
       "      <td>536365</td>\n",
       "      <td>22752</td>\n",
       "      <td>SET 7 BABUSHKA NESTING BOXES</td>\n",
       "      <td>2</td>\n",
       "      <td>12/1/2010 8:26</td>\n",
       "      <td>7.65</td>\n",
       "      <td>17850.0</td>\n",
       "      <td>United Kingdom</td>\n",
       "      <td>1</td>\n",
       "      <td>12</td>\n",
       "      <td>2010</td>\n",
       "      <td>2010-12-01</td>\n",
       "    </tr>\n",
       "    <tr>\n",
       "      <th>6</th>\n",
       "      <td>536365</td>\n",
       "      <td>21730</td>\n",
       "      <td>GLASS STAR FROSTED T-LIGHT HOLDER</td>\n",
       "      <td>6</td>\n",
       "      <td>12/1/2010 8:26</td>\n",
       "      <td>4.25</td>\n",
       "      <td>17850.0</td>\n",
       "      <td>United Kingdom</td>\n",
       "      <td>1</td>\n",
       "      <td>12</td>\n",
       "      <td>2010</td>\n",
       "      <td>2010-12-01</td>\n",
       "    </tr>\n",
       "    <tr>\n",
       "      <th>7</th>\n",
       "      <td>536366</td>\n",
       "      <td>22633</td>\n",
       "      <td>HAND WARMER UNION JACK</td>\n",
       "      <td>6</td>\n",
       "      <td>12/1/2010 8:28</td>\n",
       "      <td>1.85</td>\n",
       "      <td>17850.0</td>\n",
       "      <td>United Kingdom</td>\n",
       "      <td>1</td>\n",
       "      <td>12</td>\n",
       "      <td>2010</td>\n",
       "      <td>2010-12-01</td>\n",
       "    </tr>\n",
       "    <tr>\n",
       "      <th>8</th>\n",
       "      <td>536366</td>\n",
       "      <td>22632</td>\n",
       "      <td>HAND WARMER RED POLKA DOT</td>\n",
       "      <td>6</td>\n",
       "      <td>12/1/2010 8:28</td>\n",
       "      <td>1.85</td>\n",
       "      <td>17850.0</td>\n",
       "      <td>United Kingdom</td>\n",
       "      <td>1</td>\n",
       "      <td>12</td>\n",
       "      <td>2010</td>\n",
       "      <td>2010-12-01</td>\n",
       "    </tr>\n",
       "    <tr>\n",
       "      <th>9</th>\n",
       "      <td>536367</td>\n",
       "      <td>84879</td>\n",
       "      <td>ASSORTED COLOUR BIRD ORNAMENT</td>\n",
       "      <td>32</td>\n",
       "      <td>12/1/2010 8:34</td>\n",
       "      <td>1.69</td>\n",
       "      <td>13047.0</td>\n",
       "      <td>United Kingdom</td>\n",
       "      <td>1</td>\n",
       "      <td>12</td>\n",
       "      <td>2010</td>\n",
       "      <td>2010-12-01</td>\n",
       "    </tr>\n",
       "  </tbody>\n",
       "</table>\n",
       "</div>"
      ],
      "text/plain": [
       "  InvoiceNo StockCode                          Description  Quantity  \\\n",
       "0    536365    85123A   WHITE HANGING HEART T-LIGHT HOLDER         6   \n",
       "1    536365     71053                  WHITE METAL LANTERN         6   \n",
       "2    536365    84406B       CREAM CUPID HEARTS COAT HANGER         8   \n",
       "3    536365    84029G  KNITTED UNION FLAG HOT WATER BOTTLE         6   \n",
       "4    536365    84029E       RED WOOLLY HOTTIE WHITE HEART.         6   \n",
       "5    536365     22752         SET 7 BABUSHKA NESTING BOXES         2   \n",
       "6    536365     21730    GLASS STAR FROSTED T-LIGHT HOLDER         6   \n",
       "7    536366     22633               HAND WARMER UNION JACK         6   \n",
       "8    536366     22632            HAND WARMER RED POLKA DOT         6   \n",
       "9    536367     84879        ASSORTED COLOUR BIRD ORNAMENT        32   \n",
       "\n",
       "      InvoiceDate  UnitPrice  CustomerID         Country  day  month  year  \\\n",
       "0  12/1/2010 8:26       2.55     17850.0  United Kingdom    1     12  2010   \n",
       "1  12/1/2010 8:26       3.39     17850.0  United Kingdom    1     12  2010   \n",
       "2  12/1/2010 8:26       2.75     17850.0  United Kingdom    1     12  2010   \n",
       "3  12/1/2010 8:26       3.39     17850.0  United Kingdom    1     12  2010   \n",
       "4  12/1/2010 8:26       3.39     17850.0  United Kingdom    1     12  2010   \n",
       "5  12/1/2010 8:26       7.65     17850.0  United Kingdom    1     12  2010   \n",
       "6  12/1/2010 8:26       4.25     17850.0  United Kingdom    1     12  2010   \n",
       "7  12/1/2010 8:28       1.85     17850.0  United Kingdom    1     12  2010   \n",
       "8  12/1/2010 8:28       1.85     17850.0  United Kingdom    1     12  2010   \n",
       "9  12/1/2010 8:34       1.69     13047.0  United Kingdom    1     12  2010   \n",
       "\n",
       "         Date  \n",
       "0  2010-12-01  \n",
       "1  2010-12-01  \n",
       "2  2010-12-01  \n",
       "3  2010-12-01  \n",
       "4  2010-12-01  \n",
       "5  2010-12-01  \n",
       "6  2010-12-01  \n",
       "7  2010-12-01  \n",
       "8  2010-12-01  \n",
       "9  2010-12-01  "
      ]
     },
     "execution_count": 10,
     "metadata": {},
     "output_type": "execute_result"
    }
   ],
   "source": [
    "df.head(10)"
   ]
  },
  {
   "cell_type": "code",
   "execution_count": 11,
   "id": "b3d1b202",
   "metadata": {
    "execution": {
     "iopub.execute_input": "2023-01-20T19:38:26.790891Z",
     "iopub.status.busy": "2023-01-20T19:38:26.790562Z",
     "iopub.status.idle": "2023-01-20T19:38:26.796900Z",
     "shell.execute_reply": "2023-01-20T19:38:26.795647Z"
    },
    "papermill": {
     "duration": 0.018889,
     "end_time": "2023-01-20T19:38:26.798681",
     "exception": false,
     "start_time": "2023-01-20T19:38:26.779792",
     "status": "completed"
    },
    "tags": []
   },
   "outputs": [
    {
     "name": "stdout",
     "output_type": "stream",
     "text": [
      "rows are 541909 , columns are 12\n"
     ]
    }
   ],
   "source": [
    "rows=df.shape[0]\n",
    "cols=df.shape[1]\n",
    "print(f\"rows are {rows} , columns are {cols}\" )"
   ]
  },
  {
   "cell_type": "code",
   "execution_count": 12,
   "id": "36d4244e",
   "metadata": {
    "execution": {
     "iopub.execute_input": "2023-01-20T19:38:26.820349Z",
     "iopub.status.busy": "2023-01-20T19:38:26.820009Z",
     "iopub.status.idle": "2023-01-20T19:38:26.954624Z",
     "shell.execute_reply": "2023-01-20T19:38:26.952578Z"
    },
    "papermill": {
     "duration": 0.148912,
     "end_time": "2023-01-20T19:38:26.957286",
     "exception": false,
     "start_time": "2023-01-20T19:38:26.808374",
     "status": "completed"
    },
    "tags": []
   },
   "outputs": [
    {
     "name": "stdout",
     "output_type": "stream",
     "text": [
      "<class 'pandas.core.frame.DataFrame'>\n",
      "RangeIndex: 541909 entries, 0 to 541908\n",
      "Data columns (total 12 columns):\n",
      " #   Column       Non-Null Count   Dtype  \n",
      "---  ------       --------------   -----  \n",
      " 0   InvoiceNo    541909 non-null  object \n",
      " 1   StockCode    541909 non-null  object \n",
      " 2   Description  540455 non-null  object \n",
      " 3   Quantity     541909 non-null  int64  \n",
      " 4   InvoiceDate  541909 non-null  object \n",
      " 5   UnitPrice    541909 non-null  float64\n",
      " 6   CustomerID   406829 non-null  float64\n",
      " 7   Country      541909 non-null  object \n",
      " 8   day          541909 non-null  int64  \n",
      " 9   month        541909 non-null  int64  \n",
      " 10  year         541909 non-null  int64  \n",
      " 11  Date         541909 non-null  object \n",
      "dtypes: float64(2), int64(4), object(6)\n",
      "memory usage: 49.6+ MB\n"
     ]
    }
   ],
   "source": [
    "df.info()"
   ]
  },
  {
   "cell_type": "code",
   "execution_count": 13,
   "id": "b9fbcaf5",
   "metadata": {
    "execution": {
     "iopub.execute_input": "2023-01-20T19:38:26.977405Z",
     "iopub.status.busy": "2023-01-20T19:38:26.977069Z",
     "iopub.status.idle": "2023-01-20T19:38:27.988686Z",
     "shell.execute_reply": "2023-01-20T19:38:27.987078Z"
    },
    "papermill": {
     "duration": 1.024258,
     "end_time": "2023-01-20T19:38:27.991054",
     "exception": false,
     "start_time": "2023-01-20T19:38:26.966796",
     "status": "completed"
    },
    "tags": []
   },
   "outputs": [
    {
     "name": "stdout",
     "output_type": "stream",
     "text": [
      "Duplicates: 5268\n"
     ]
    }
   ],
   "source": [
    "print('Duplicates: {}'.format(df.duplicated().sum()))\n",
    "df.drop_duplicates(inplace = True)\n"
   ]
  },
  {
   "cell_type": "code",
   "execution_count": 14,
   "id": "6bde1cd7",
   "metadata": {
    "execution": {
     "iopub.execute_input": "2023-01-20T19:38:28.012022Z",
     "iopub.status.busy": "2023-01-20T19:38:28.011633Z",
     "iopub.status.idle": "2023-01-20T19:38:28.046269Z",
     "shell.execute_reply": "2023-01-20T19:38:28.045001Z"
    },
    "papermill": {
     "duration": 0.048697,
     "end_time": "2023-01-20T19:38:28.048943",
     "exception": false,
     "start_time": "2023-01-20T19:38:28.000246",
     "status": "completed"
    },
    "tags": []
   },
   "outputs": [],
   "source": [
    " cate_columns=df.select_dtypes(include=['category','object'])\n",
    " "
   ]
  },
  {
   "cell_type": "code",
   "execution_count": 15,
   "id": "6f3787c2",
   "metadata": {
    "execution": {
     "iopub.execute_input": "2023-01-20T19:38:28.071683Z",
     "iopub.status.busy": "2023-01-20T19:38:28.070758Z",
     "iopub.status.idle": "2023-01-20T19:38:28.085283Z",
     "shell.execute_reply": "2023-01-20T19:38:28.084192Z"
    },
    "papermill": {
     "duration": 0.028246,
     "end_time": "2023-01-20T19:38:28.087318",
     "exception": false,
     "start_time": "2023-01-20T19:38:28.059072",
     "status": "completed"
    },
    "tags": []
   },
   "outputs": [],
   "source": [
    "numeric_columns=df.select_dtypes(include=['int','float'])\n",
    " "
   ]
  },
  {
   "cell_type": "code",
   "execution_count": 16,
   "id": "26804463",
   "metadata": {
    "execution": {
     "iopub.execute_input": "2023-01-20T19:38:28.110900Z",
     "iopub.status.busy": "2023-01-20T19:38:28.109738Z",
     "iopub.status.idle": "2023-01-20T19:38:28.115652Z",
     "shell.execute_reply": "2023-01-20T19:38:28.114635Z"
    },
    "papermill": {
     "duration": 0.020383,
     "end_time": "2023-01-20T19:38:28.117690",
     "exception": false,
     "start_time": "2023-01-20T19:38:28.097307",
     "status": "completed"
    },
    "tags": []
   },
   "outputs": [],
   "source": [
    "def get_null_values_info(df):\n",
    "     \n",
    "    a=df.isnull().sum()\n",
    "    df1=pd.DataFrame({\"Null Values\":a})\n",
    "    return df1\n",
    "    "
   ]
  },
  {
   "cell_type": "code",
   "execution_count": 17,
   "id": "9a32d9c1",
   "metadata": {
    "execution": {
     "iopub.execute_input": "2023-01-20T19:38:28.138123Z",
     "iopub.status.busy": "2023-01-20T19:38:28.137797Z",
     "iopub.status.idle": "2023-01-20T19:38:28.142527Z",
     "shell.execute_reply": "2023-01-20T19:38:28.141640Z"
    },
    "papermill": {
     "duration": 0.017533,
     "end_time": "2023-01-20T19:38:28.144646",
     "exception": false,
     "start_time": "2023-01-20T19:38:28.127113",
     "status": "completed"
    },
    "tags": []
   },
   "outputs": [],
   "source": [
    "def draw_boxplot(df):\n",
    "    plt.figure(figsize=(28,100))\n",
    "    plotnumber=1\n",
    "    for i in numeric_columns.columns:\n",
    "        ax=plt.subplot(30,3,plotnumber)\n",
    "        sns.boxplot(numeric_columns[i])\n",
    "    #     plt.title(i,size=20)\n",
    "        plt.xlabel(i )\n",
    "    #     plt.xticks(rotation=70, size = 15)\n",
    "        plotnumber+=1\n",
    "    plt.show() "
   ]
  },
  {
   "cell_type": "code",
   "execution_count": 18,
   "id": "f0709d51",
   "metadata": {
    "execution": {
     "iopub.execute_input": "2023-01-20T19:38:28.165799Z",
     "iopub.status.busy": "2023-01-20T19:38:28.165226Z",
     "iopub.status.idle": "2023-01-20T19:38:28.170765Z",
     "shell.execute_reply": "2023-01-20T19:38:28.169606Z"
    },
    "papermill": {
     "duration": 0.018018,
     "end_time": "2023-01-20T19:38:28.173017",
     "exception": false,
     "start_time": "2023-01-20T19:38:28.154999",
     "status": "completed"
    },
    "tags": []
   },
   "outputs": [],
   "source": [
    "def draw_dist(df):    \n",
    "    plt.figure(figsize=(28,80))\n",
    "    plotnumber=1\n",
    "    for i in df.columns:\n",
    "        ax=plt.subplot(10,4,plotnumber)\n",
    "        sns.distplot(x=df[i], color = 'g',    kde_kws={\"color\": \"r\", \"lw\": 3, \"label\": \"KDE\"})\n",
    "    #     plt.title(i)\n",
    "        plt.xlabel(i, size = 20)\n",
    "    #     plt.xticks(rotation=70)\n",
    "        plotnumber+=1\n",
    "    plt.show()\n"
   ]
  },
  {
   "cell_type": "code",
   "execution_count": 19,
   "id": "be63e76a",
   "metadata": {
    "execution": {
     "iopub.execute_input": "2023-01-20T19:38:28.194654Z",
     "iopub.status.busy": "2023-01-20T19:38:28.194193Z",
     "iopub.status.idle": "2023-01-20T19:38:28.198433Z",
     "shell.execute_reply": "2023-01-20T19:38:28.197865Z"
    },
    "papermill": {
     "duration": 0.016686,
     "end_time": "2023-01-20T19:38:28.200001",
     "exception": false,
     "start_time": "2023-01-20T19:38:28.183315",
     "status": "completed"
    },
    "tags": []
   },
   "outputs": [],
   "source": [
    "def draw_hist(df):\n",
    "    plt.figure(figsize=(28,100))\n",
    "    plotnumber=1\n",
    "    for i in df.columns:\n",
    "        ax=plt.subplot(15,3,plotnumber)\n",
    "        df[i].hist() \n",
    "\n",
    "        plt.title(i,size=20)\n",
    "        plotnumber+=1\n",
    "    plt.show() \n",
    " "
   ]
  },
  {
   "cell_type": "code",
   "execution_count": 20,
   "id": "2d5df0f5",
   "metadata": {
    "execution": {
     "iopub.execute_input": "2023-01-20T19:38:28.221418Z",
     "iopub.status.busy": "2023-01-20T19:38:28.220941Z",
     "iopub.status.idle": "2023-01-20T19:38:28.344827Z",
     "shell.execute_reply": "2023-01-20T19:38:28.344251Z"
    },
    "papermill": {
     "duration": 0.136767,
     "end_time": "2023-01-20T19:38:28.346374",
     "exception": false,
     "start_time": "2023-01-20T19:38:28.209607",
     "status": "completed"
    },
    "tags": []
   },
   "outputs": [
    {
     "data": {
      "text/html": [
       "<div>\n",
       "<style scoped>\n",
       "    .dataframe tbody tr th:only-of-type {\n",
       "        vertical-align: middle;\n",
       "    }\n",
       "\n",
       "    .dataframe tbody tr th {\n",
       "        vertical-align: top;\n",
       "    }\n",
       "\n",
       "    .dataframe thead th {\n",
       "        text-align: right;\n",
       "    }\n",
       "</style>\n",
       "<table border=\"1\" class=\"dataframe\">\n",
       "  <thead>\n",
       "    <tr style=\"text-align: right;\">\n",
       "      <th></th>\n",
       "      <th>Null Values</th>\n",
       "    </tr>\n",
       "  </thead>\n",
       "  <tbody>\n",
       "    <tr>\n",
       "      <th>InvoiceNo</th>\n",
       "      <td>0</td>\n",
       "    </tr>\n",
       "    <tr>\n",
       "      <th>StockCode</th>\n",
       "      <td>0</td>\n",
       "    </tr>\n",
       "    <tr>\n",
       "      <th>Description</th>\n",
       "      <td>1454</td>\n",
       "    </tr>\n",
       "    <tr>\n",
       "      <th>Quantity</th>\n",
       "      <td>0</td>\n",
       "    </tr>\n",
       "    <tr>\n",
       "      <th>InvoiceDate</th>\n",
       "      <td>0</td>\n",
       "    </tr>\n",
       "    <tr>\n",
       "      <th>UnitPrice</th>\n",
       "      <td>0</td>\n",
       "    </tr>\n",
       "    <tr>\n",
       "      <th>CustomerID</th>\n",
       "      <td>135037</td>\n",
       "    </tr>\n",
       "    <tr>\n",
       "      <th>Country</th>\n",
       "      <td>0</td>\n",
       "    </tr>\n",
       "    <tr>\n",
       "      <th>day</th>\n",
       "      <td>0</td>\n",
       "    </tr>\n",
       "    <tr>\n",
       "      <th>month</th>\n",
       "      <td>0</td>\n",
       "    </tr>\n",
       "    <tr>\n",
       "      <th>year</th>\n",
       "      <td>0</td>\n",
       "    </tr>\n",
       "    <tr>\n",
       "      <th>Date</th>\n",
       "      <td>0</td>\n",
       "    </tr>\n",
       "  </tbody>\n",
       "</table>\n",
       "</div>"
      ],
      "text/plain": [
       "             Null Values\n",
       "InvoiceNo              0\n",
       "StockCode              0\n",
       "Description         1454\n",
       "Quantity               0\n",
       "InvoiceDate            0\n",
       "UnitPrice              0\n",
       "CustomerID        135037\n",
       "Country                0\n",
       "day                    0\n",
       "month                  0\n",
       "year                   0\n",
       "Date                   0"
      ]
     },
     "execution_count": 20,
     "metadata": {},
     "output_type": "execute_result"
    }
   ],
   "source": [
    "null_values=get_null_values_info(df)\n",
    "null_values"
   ]
  },
  {
   "cell_type": "code",
   "execution_count": 21,
   "id": "b3ec4ff6",
   "metadata": {
    "execution": {
     "iopub.execute_input": "2023-01-20T19:38:28.366972Z",
     "iopub.status.busy": "2023-01-20T19:38:28.366595Z",
     "iopub.status.idle": "2023-01-20T19:38:28.512193Z",
     "shell.execute_reply": "2023-01-20T19:38:28.510431Z"
    },
    "papermill": {
     "duration": 0.158771,
     "end_time": "2023-01-20T19:38:28.514756",
     "exception": false,
     "start_time": "2023-01-20T19:38:28.355985",
     "status": "completed"
    },
    "tags": []
   },
   "outputs": [
    {
     "data": {
      "text/html": [
       "<div>\n",
       "<style scoped>\n",
       "    .dataframe tbody tr th:only-of-type {\n",
       "        vertical-align: middle;\n",
       "    }\n",
       "\n",
       "    .dataframe tbody tr th {\n",
       "        vertical-align: top;\n",
       "    }\n",
       "\n",
       "    .dataframe thead th {\n",
       "        text-align: right;\n",
       "    }\n",
       "</style>\n",
       "<table border=\"1\" class=\"dataframe\">\n",
       "  <thead>\n",
       "    <tr style=\"text-align: right;\">\n",
       "      <th></th>\n",
       "      <th>InvoiceNo</th>\n",
       "      <th>StockCode</th>\n",
       "      <th>Description</th>\n",
       "      <th>Quantity</th>\n",
       "      <th>InvoiceDate</th>\n",
       "      <th>UnitPrice</th>\n",
       "      <th>CustomerID</th>\n",
       "      <th>Country</th>\n",
       "      <th>day</th>\n",
       "      <th>month</th>\n",
       "      <th>year</th>\n",
       "      <th>Date</th>\n",
       "    </tr>\n",
       "  </thead>\n",
       "  <tbody>\n",
       "    <tr>\n",
       "      <th>622</th>\n",
       "      <td>536414</td>\n",
       "      <td>22139</td>\n",
       "      <td>NaN</td>\n",
       "      <td>56</td>\n",
       "      <td>12/1/2010 11:52</td>\n",
       "      <td>0.00</td>\n",
       "      <td>NaN</td>\n",
       "      <td>United Kingdom</td>\n",
       "      <td>1</td>\n",
       "      <td>12</td>\n",
       "      <td>2010</td>\n",
       "      <td>2010-12-01</td>\n",
       "    </tr>\n",
       "    <tr>\n",
       "      <th>1443</th>\n",
       "      <td>536544</td>\n",
       "      <td>21773</td>\n",
       "      <td>DECORATIVE ROSE BATHROOM BOTTLE</td>\n",
       "      <td>1</td>\n",
       "      <td>12/1/2010 14:32</td>\n",
       "      <td>2.51</td>\n",
       "      <td>NaN</td>\n",
       "      <td>United Kingdom</td>\n",
       "      <td>1</td>\n",
       "      <td>12</td>\n",
       "      <td>2010</td>\n",
       "      <td>2010-12-01</td>\n",
       "    </tr>\n",
       "    <tr>\n",
       "      <th>1444</th>\n",
       "      <td>536544</td>\n",
       "      <td>21774</td>\n",
       "      <td>DECORATIVE CATS BATHROOM BOTTLE</td>\n",
       "      <td>2</td>\n",
       "      <td>12/1/2010 14:32</td>\n",
       "      <td>2.51</td>\n",
       "      <td>NaN</td>\n",
       "      <td>United Kingdom</td>\n",
       "      <td>1</td>\n",
       "      <td>12</td>\n",
       "      <td>2010</td>\n",
       "      <td>2010-12-01</td>\n",
       "    </tr>\n",
       "    <tr>\n",
       "      <th>1445</th>\n",
       "      <td>536544</td>\n",
       "      <td>21786</td>\n",
       "      <td>POLKADOT RAIN HAT</td>\n",
       "      <td>4</td>\n",
       "      <td>12/1/2010 14:32</td>\n",
       "      <td>0.85</td>\n",
       "      <td>NaN</td>\n",
       "      <td>United Kingdom</td>\n",
       "      <td>1</td>\n",
       "      <td>12</td>\n",
       "      <td>2010</td>\n",
       "      <td>2010-12-01</td>\n",
       "    </tr>\n",
       "    <tr>\n",
       "      <th>1446</th>\n",
       "      <td>536544</td>\n",
       "      <td>21787</td>\n",
       "      <td>RAIN PONCHO RETROSPOT</td>\n",
       "      <td>2</td>\n",
       "      <td>12/1/2010 14:32</td>\n",
       "      <td>1.66</td>\n",
       "      <td>NaN</td>\n",
       "      <td>United Kingdom</td>\n",
       "      <td>1</td>\n",
       "      <td>12</td>\n",
       "      <td>2010</td>\n",
       "      <td>2010-12-01</td>\n",
       "    </tr>\n",
       "    <tr>\n",
       "      <th>...</th>\n",
       "      <td>...</td>\n",
       "      <td>...</td>\n",
       "      <td>...</td>\n",
       "      <td>...</td>\n",
       "      <td>...</td>\n",
       "      <td>...</td>\n",
       "      <td>...</td>\n",
       "      <td>...</td>\n",
       "      <td>...</td>\n",
       "      <td>...</td>\n",
       "      <td>...</td>\n",
       "      <td>...</td>\n",
       "    </tr>\n",
       "    <tr>\n",
       "      <th>541536</th>\n",
       "      <td>581498</td>\n",
       "      <td>85099B</td>\n",
       "      <td>JUMBO BAG RED RETROSPOT</td>\n",
       "      <td>5</td>\n",
       "      <td>12/9/2011 10:26</td>\n",
       "      <td>4.13</td>\n",
       "      <td>NaN</td>\n",
       "      <td>United Kingdom</td>\n",
       "      <td>9</td>\n",
       "      <td>12</td>\n",
       "      <td>2011</td>\n",
       "      <td>2011-12-09</td>\n",
       "    </tr>\n",
       "    <tr>\n",
       "      <th>541537</th>\n",
       "      <td>581498</td>\n",
       "      <td>85099C</td>\n",
       "      <td>JUMBO  BAG BAROQUE BLACK WHITE</td>\n",
       "      <td>4</td>\n",
       "      <td>12/9/2011 10:26</td>\n",
       "      <td>4.13</td>\n",
       "      <td>NaN</td>\n",
       "      <td>United Kingdom</td>\n",
       "      <td>9</td>\n",
       "      <td>12</td>\n",
       "      <td>2011</td>\n",
       "      <td>2011-12-09</td>\n",
       "    </tr>\n",
       "    <tr>\n",
       "      <th>541538</th>\n",
       "      <td>581498</td>\n",
       "      <td>85150</td>\n",
       "      <td>LADIES &amp; GENTLEMEN METAL SIGN</td>\n",
       "      <td>1</td>\n",
       "      <td>12/9/2011 10:26</td>\n",
       "      <td>4.96</td>\n",
       "      <td>NaN</td>\n",
       "      <td>United Kingdom</td>\n",
       "      <td>9</td>\n",
       "      <td>12</td>\n",
       "      <td>2011</td>\n",
       "      <td>2011-12-09</td>\n",
       "    </tr>\n",
       "    <tr>\n",
       "      <th>541539</th>\n",
       "      <td>581498</td>\n",
       "      <td>85174</td>\n",
       "      <td>S/4 CACTI CANDLES</td>\n",
       "      <td>1</td>\n",
       "      <td>12/9/2011 10:26</td>\n",
       "      <td>10.79</td>\n",
       "      <td>NaN</td>\n",
       "      <td>United Kingdom</td>\n",
       "      <td>9</td>\n",
       "      <td>12</td>\n",
       "      <td>2011</td>\n",
       "      <td>2011-12-09</td>\n",
       "    </tr>\n",
       "    <tr>\n",
       "      <th>541540</th>\n",
       "      <td>581498</td>\n",
       "      <td>DOT</td>\n",
       "      <td>DOTCOM POSTAGE</td>\n",
       "      <td>1</td>\n",
       "      <td>12/9/2011 10:26</td>\n",
       "      <td>1714.17</td>\n",
       "      <td>NaN</td>\n",
       "      <td>United Kingdom</td>\n",
       "      <td>9</td>\n",
       "      <td>12</td>\n",
       "      <td>2011</td>\n",
       "      <td>2011-12-09</td>\n",
       "    </tr>\n",
       "  </tbody>\n",
       "</table>\n",
       "<p>135037 rows × 12 columns</p>\n",
       "</div>"
      ],
      "text/plain": [
       "       InvoiceNo StockCode                      Description  Quantity  \\\n",
       "622       536414     22139                              NaN        56   \n",
       "1443      536544     21773  DECORATIVE ROSE BATHROOM BOTTLE         1   \n",
       "1444      536544     21774  DECORATIVE CATS BATHROOM BOTTLE         2   \n",
       "1445      536544     21786               POLKADOT RAIN HAT          4   \n",
       "1446      536544     21787            RAIN PONCHO RETROSPOT         2   \n",
       "...          ...       ...                              ...       ...   \n",
       "541536    581498    85099B          JUMBO BAG RED RETROSPOT         5   \n",
       "541537    581498    85099C   JUMBO  BAG BAROQUE BLACK WHITE         4   \n",
       "541538    581498     85150    LADIES & GENTLEMEN METAL SIGN         1   \n",
       "541539    581498     85174                S/4 CACTI CANDLES         1   \n",
       "541540    581498       DOT                   DOTCOM POSTAGE         1   \n",
       "\n",
       "            InvoiceDate  UnitPrice  CustomerID         Country  day  month  \\\n",
       "622     12/1/2010 11:52       0.00         NaN  United Kingdom    1     12   \n",
       "1443    12/1/2010 14:32       2.51         NaN  United Kingdom    1     12   \n",
       "1444    12/1/2010 14:32       2.51         NaN  United Kingdom    1     12   \n",
       "1445    12/1/2010 14:32       0.85         NaN  United Kingdom    1     12   \n",
       "1446    12/1/2010 14:32       1.66         NaN  United Kingdom    1     12   \n",
       "...                 ...        ...         ...             ...  ...    ...   \n",
       "541536  12/9/2011 10:26       4.13         NaN  United Kingdom    9     12   \n",
       "541537  12/9/2011 10:26       4.13         NaN  United Kingdom    9     12   \n",
       "541538  12/9/2011 10:26       4.96         NaN  United Kingdom    9     12   \n",
       "541539  12/9/2011 10:26      10.79         NaN  United Kingdom    9     12   \n",
       "541540  12/9/2011 10:26    1714.17         NaN  United Kingdom    9     12   \n",
       "\n",
       "        year        Date  \n",
       "622     2010  2010-12-01  \n",
       "1443    2010  2010-12-01  \n",
       "1444    2010  2010-12-01  \n",
       "1445    2010  2010-12-01  \n",
       "1446    2010  2010-12-01  \n",
       "...      ...         ...  \n",
       "541536  2011  2011-12-09  \n",
       "541537  2011  2011-12-09  \n",
       "541538  2011  2011-12-09  \n",
       "541539  2011  2011-12-09  \n",
       "541540  2011  2011-12-09  \n",
       "\n",
       "[135037 rows x 12 columns]"
      ]
     },
     "execution_count": 21,
     "metadata": {},
     "output_type": "execute_result"
    }
   ],
   "source": [
    "df[df.isnull().any(axis=1)]"
   ]
  },
  {
   "cell_type": "code",
   "execution_count": 22,
   "id": "5882e02f",
   "metadata": {
    "execution": {
     "iopub.execute_input": "2023-01-20T19:38:28.537490Z",
     "iopub.status.busy": "2023-01-20T19:38:28.537148Z",
     "iopub.status.idle": "2023-01-20T19:38:28.564304Z",
     "shell.execute_reply": "2023-01-20T19:38:28.563242Z"
    },
    "papermill": {
     "duration": 0.041459,
     "end_time": "2023-01-20T19:38:28.567073",
     "exception": false,
     "start_time": "2023-01-20T19:38:28.525614",
     "status": "completed"
    },
    "tags": []
   },
   "outputs": [
    {
     "name": "stdout",
     "output_type": "stream",
     "text": [
      " Null values % is :0.2709446352403189\n"
     ]
    }
   ],
   "source": [
    " \n",
    "print(f' Null values % is :{df.Description.isnull().sum()*100/df.shape[0] }'   )"
   ]
  },
  {
   "cell_type": "code",
   "execution_count": 23,
   "id": "0e4b1208",
   "metadata": {
    "execution": {
     "iopub.execute_input": "2023-01-20T19:38:28.589618Z",
     "iopub.status.busy": "2023-01-20T19:38:28.589289Z",
     "iopub.status.idle": "2023-01-20T19:38:28.679090Z",
     "shell.execute_reply": "2023-01-20T19:38:28.677618Z"
    },
    "papermill": {
     "duration": 0.104447,
     "end_time": "2023-01-20T19:38:28.682280",
     "exception": false,
     "start_time": "2023-01-20T19:38:28.577833",
     "status": "completed"
    },
    "tags": []
   },
   "outputs": [
    {
     "name": "stdout",
     "output_type": "stream",
     "text": [
      "United Kingdom has count  490300\n",
      "Germany has count  9480\n",
      "France has count  8541\n",
      "EIRE has count  8184\n",
      "Spain has count  2528\n",
      "Netherlands has count  2371\n",
      "Belgium has count  2069\n",
      "Switzerland has count  1994\n",
      "Portugal has count  1510\n",
      "Australia has count  1258\n",
      "Norway has count  1086\n",
      "Italy has count  803\n",
      "Channel Islands has count  757\n",
      "Finland has count  695\n",
      "Cyprus has count  611\n",
      "Sweden has count  461\n",
      "Unspecified has count  442\n",
      "Austria has count  401\n",
      "Denmark has count  389\n",
      "Japan has count  358\n",
      "Poland has count  341\n",
      "Israel has count  294\n",
      "USA has count  291\n",
      "Hong Kong has count  284\n",
      "Singapore has count  229\n",
      "Iceland has count  182\n",
      "Canada has count  151\n",
      "Greece has count  146\n",
      "Malta has count  127\n",
      "United Arab Emirates has count  68\n",
      "European Community has count  61\n",
      "RSA has count  58\n",
      "Lebanon has count  45\n",
      "Lithuania has count  35\n",
      "Brazil has count  32\n",
      "Czech Republic has count  30\n",
      "Bahrain has count  19\n",
      "Saudi Arabia has count  10\n"
     ]
    }
   ],
   "source": [
    "c=df.Country.value_counts()\n",
    "a=df.Country.value_counts().index \n",
    "b=df.Country.value_counts()\n",
    "for i in range(len(a)):\n",
    "    print(f'{a[i] } has count  {b[i]}')"
   ]
  },
  {
   "cell_type": "code",
   "execution_count": 24,
   "id": "32c181a2",
   "metadata": {
    "execution": {
     "iopub.execute_input": "2023-01-20T19:38:28.706837Z",
     "iopub.status.busy": "2023-01-20T19:38:28.706482Z",
     "iopub.status.idle": "2023-01-20T19:38:28.714011Z",
     "shell.execute_reply": "2023-01-20T19:38:28.712598Z"
    },
    "papermill": {
     "duration": 0.021439,
     "end_time": "2023-01-20T19:38:28.716123",
     "exception": false,
     "start_time": "2023-01-20T19:38:28.694684",
     "status": "completed"
    },
    "tags": []
   },
   "outputs": [
    {
     "name": "stdout",
     "output_type": "stream",
     "text": [
      "United Kingdom    490300\n",
      "Germany             9480\n",
      "France              8541\n",
      "EIRE                8184\n",
      "Spain               2528\n",
      "Netherlands         2371\n",
      "Belgium             2069\n",
      "Switzerland         1994\n",
      "Portugal            1510\n",
      "Australia           1258\n",
      "Name: Country, dtype: int64\n"
     ]
    }
   ],
   "source": [
    "top_10=c.sort_values(ascending=False).head(10) \n",
    "print(top_10)"
   ]
  },
  {
   "cell_type": "code",
   "execution_count": 25,
   "id": "c068a331",
   "metadata": {
    "execution": {
     "iopub.execute_input": "2023-01-20T19:38:28.738796Z",
     "iopub.status.busy": "2023-01-20T19:38:28.738496Z",
     "iopub.status.idle": "2023-01-20T19:38:28.944113Z",
     "shell.execute_reply": "2023-01-20T19:38:28.942982Z"
    },
    "papermill": {
     "duration": 0.220237,
     "end_time": "2023-01-20T19:38:28.946920",
     "exception": false,
     "start_time": "2023-01-20T19:38:28.726683",
     "status": "completed"
    },
    "tags": []
   },
   "outputs": [
    {
     "data": {
      "image/png": "[encoded data removed]",
      "text/plain": [
       "<Figure size 432x288 with 1 Axes>"
      ]
     },
     "metadata": {
      "needs_background": "light"
     },
     "output_type": "display_data"
    }
   ],
   "source": [
    "top_10.plot.bar()\n",
    "plt.ylim(top_10.min(),(top_10.max()+10000))\n",
    "plt.show()"
   ]
  },
  {
   "cell_type": "code",
   "execution_count": 26,
   "id": "08845017",
   "metadata": {
    "execution": {
     "iopub.execute_input": "2023-01-20T19:38:28.971788Z",
     "iopub.status.busy": "2023-01-20T19:38:28.970772Z",
     "iopub.status.idle": "2023-01-20T19:38:28.990845Z",
     "shell.execute_reply": "2023-01-20T19:38:28.989338Z"
    },
    "papermill": {
     "duration": 0.034309,
     "end_time": "2023-01-20T19:38:28.992892",
     "exception": false,
     "start_time": "2023-01-20T19:38:28.958583",
     "status": "completed"
    },
    "tags": []
   },
   "outputs": [
    {
     "data": {
      "text/plain": [
       "day\n",
       "8     24421\n",
       "6     23910\n",
       "7     22820\n",
       "17    22618\n",
       "5     21822\n",
       "10    19792\n",
       "4     19367\n",
       "21    19104\n",
       "18    18967\n",
       "20    18909\n",
       "Name: Quantity, dtype: int64"
      ]
     },
     "execution_count": 26,
     "metadata": {},
     "output_type": "execute_result"
    }
   ],
   "source": [
    "df.groupby([ \"day\" ])[\"Quantity\"].count().sort_values(ascending=False).head(10)"
   ]
  },
  {
   "cell_type": "code",
   "execution_count": 27,
   "id": "2cdc410c",
   "metadata": {
    "execution": {
     "iopub.execute_input": "2023-01-20T19:38:29.016032Z",
     "iopub.status.busy": "2023-01-20T19:38:29.015717Z",
     "iopub.status.idle": "2023-01-20T19:38:29.175733Z",
     "shell.execute_reply": "2023-01-20T19:38:29.174710Z"
    },
    "papermill": {
     "duration": 0.173897,
     "end_time": "2023-01-20T19:38:29.178083",
     "exception": false,
     "start_time": "2023-01-20T19:38:29.004186",
     "status": "completed"
    },
    "tags": []
   },
   "outputs": [
    {
     "data": {
      "image/png": "[encoded data removed]",
      "text/plain": [
       "<Figure size 432x288 with 1 Axes>"
      ]
     },
     "metadata": {
      "needs_background": "light"
     },
     "output_type": "display_data"
    }
   ],
   "source": [
    "df.groupby([ \"month\"])[\"Quantity\"].count().sort_values(ascending=False).plot.bar()\n",
    "plt.xticks(rotation=0)\n",
    "plt.show()"
   ]
  },
  {
   "cell_type": "code",
   "execution_count": 28,
   "id": "17aaf6f8",
   "metadata": {
    "execution": {
     "iopub.execute_input": "2023-01-20T19:38:29.205042Z",
     "iopub.status.busy": "2023-01-20T19:38:29.203683Z",
     "iopub.status.idle": "2023-01-20T19:38:29.392692Z",
     "shell.execute_reply": "2023-01-20T19:38:29.391466Z"
    },
    "papermill": {
     "duration": 0.20524,
     "end_time": "2023-01-20T19:38:29.395633",
     "exception": false,
     "start_time": "2023-01-20T19:38:29.190393",
     "status": "completed"
    },
    "tags": []
   },
   "outputs": [
    {
     "data": {
      "image/png": "[encoded data removed]",
      "text/plain": [
       "<Figure size 432x288 with 1 Axes>"
      ]
     },
     "metadata": {
      "needs_background": "light"
     },
     "output_type": "display_data"
    }
   ],
   "source": [
    "df.groupby([ \"day\", \"month\"])[\"Quantity\"].count().sort_values(ascending=False).head(10).plot.bar()\n",
    "plt.xticks(rotation=45)\n",
    "plt.show()"
   ]
  },
  {
   "cell_type": "code",
   "execution_count": 29,
   "id": "e0a77a68",
   "metadata": {
    "execution": {
     "iopub.execute_input": "2023-01-20T19:38:29.429877Z",
     "iopub.status.busy": "2023-01-20T19:38:29.428440Z",
     "iopub.status.idle": "2023-01-20T19:38:29.645822Z",
     "shell.execute_reply": "2023-01-20T19:38:29.644743Z"
    },
    "papermill": {
     "duration": 0.236623,
     "end_time": "2023-01-20T19:38:29.648185",
     "exception": false,
     "start_time": "2023-01-20T19:38:29.411562",
     "status": "completed"
    },
    "tags": []
   },
   "outputs": [
    {
     "data": {
      "image/png": "[encoded data removed]",
      "text/plain": [
       "<Figure size 432x288 with 1 Axes>"
      ]
     },
     "metadata": {
      "needs_background": "light"
     },
     "output_type": "display_data"
    }
   ],
   "source": [
    "df.groupby([ \"StockCode\" ])[\"Quantity\"].count().sort_values(ascending=False).head(10).plot.bar()\n",
    "plt.xticks(rotation=45)\n",
    "plt.show()"
   ]
  },
  {
   "cell_type": "code",
   "execution_count": 30,
   "id": "c2e2acc1",
   "metadata": {
    "execution": {
     "iopub.execute_input": "2023-01-20T19:38:29.678291Z",
     "iopub.status.busy": "2023-01-20T19:38:29.676782Z",
     "iopub.status.idle": "2023-01-20T19:38:29.800185Z",
     "shell.execute_reply": "2023-01-20T19:38:29.799338Z"
    },
    "papermill": {
     "duration": 0.141155,
     "end_time": "2023-01-20T19:38:29.802234",
     "exception": false,
     "start_time": "2023-01-20T19:38:29.661079",
     "status": "completed"
    },
    "tags": []
   },
   "outputs": [
    {
     "data": {
      "image/png": "[encoded data removed]",
      "text/plain": [
       "<Figure size 432x288 with 1 Axes>"
      ]
     },
     "metadata": {
      "needs_background": "light"
     },
     "output_type": "display_data"
    }
   ],
   "source": [
    "df.groupby(  \"year\" )[\"Quantity\"].count().plot.bar() \n",
    "plt.xticks(rotation=0)\n",
    "plt.show()"
   ]
  },
  {
   "cell_type": "code",
   "execution_count": 31,
   "id": "95c3bbb4",
   "metadata": {
    "execution": {
     "iopub.execute_input": "2023-01-20T19:38:29.837651Z",
     "iopub.status.busy": "2023-01-20T19:38:29.837330Z",
     "iopub.status.idle": "2023-01-20T19:38:30.909400Z",
     "shell.execute_reply": "2023-01-20T19:38:30.907970Z"
    },
    "papermill": {
     "duration": 1.092859,
     "end_time": "2023-01-20T19:38:30.911972",
     "exception": false,
     "start_time": "2023-01-20T19:38:29.819113",
     "status": "completed"
    },
    "tags": []
   },
   "outputs": [
    {
     "data": {
      "image/png": "[encoded data removed]",
      "text/plain": [
       "<Figure size 720x720 with 1 Axes>"
      ]
     },
     "metadata": {
      "needs_background": "light"
     },
     "output_type": "display_data"
    }
   ],
   "source": [
    "a = df.sort_values('Date', ascending=True)\n",
    "ax=plt.figure(figsize=(10,10))\n",
    "plt.plot(a['Date'], a['UnitPrice'])\n",
    "# ax.set_xlim(a.Date.min, a.Date.max)\n",
    "plt.xticks(rotation='vertical')\n",
    "plt.show()"
   ]
  },
  {
   "cell_type": "code",
   "execution_count": 32,
   "id": "7ced3152",
   "metadata": {
    "execution": {
     "iopub.execute_input": "2023-01-20T19:38:30.941291Z",
     "iopub.status.busy": "2023-01-20T19:38:30.939530Z",
     "iopub.status.idle": "2023-01-20T19:38:31.716440Z",
     "shell.execute_reply": "2023-01-20T19:38:31.714797Z"
    },
    "papermill": {
     "duration": 0.794629,
     "end_time": "2023-01-20T19:38:31.719198",
     "exception": false,
     "start_time": "2023-01-20T19:38:30.924569",
     "status": "completed"
    },
    "tags": []
   },
   "outputs": [
    {
     "data": {
      "image/png": "[encoded data removed]",
      "text/plain": [
       "<Figure size 720x720 with 1 Axes>"
      ]
     },
     "metadata": {
      "needs_background": "light"
     },
     "output_type": "display_data"
    }
   ],
   "source": [
    "ax=plt.figure(figsize=(10,10)) \n",
    "plt.plot(a['Date'], a['Quantity'])\n",
    "plt.xticks(rotation=45)\n",
    "plt.show()"
   ]
  },
  {
   "cell_type": "code",
   "execution_count": 33,
   "id": "1dcb9641",
   "metadata": {
    "execution": {
     "iopub.execute_input": "2023-01-20T19:38:31.747085Z",
     "iopub.status.busy": "2023-01-20T19:38:31.746750Z",
     "iopub.status.idle": "2023-01-20T19:38:31.987840Z",
     "shell.execute_reply": "2023-01-20T19:38:31.985433Z"
    },
    "papermill": {
     "duration": 0.258078,
     "end_time": "2023-01-20T19:38:31.990651",
     "exception": false,
     "start_time": "2023-01-20T19:38:31.732573",
     "status": "completed"
    },
    "tags": []
   },
   "outputs": [
    {
     "data": {
      "text/html": [
       "<div>\n",
       "<style scoped>\n",
       "    .dataframe tbody tr th:only-of-type {\n",
       "        vertical-align: middle;\n",
       "    }\n",
       "\n",
       "    .dataframe tbody tr th {\n",
       "        vertical-align: top;\n",
       "    }\n",
       "\n",
       "    .dataframe thead th {\n",
       "        text-align: right;\n",
       "    }\n",
       "</style>\n",
       "<table border=\"1\" class=\"dataframe\">\n",
       "  <thead>\n",
       "    <tr style=\"text-align: right;\">\n",
       "      <th></th>\n",
       "      <th>InvoiceNo</th>\n",
       "      <th>StockCode</th>\n",
       "      <th>Description</th>\n",
       "      <th>Quantity</th>\n",
       "      <th>InvoiceDate</th>\n",
       "      <th>UnitPrice</th>\n",
       "      <th>CustomerID</th>\n",
       "      <th>Country</th>\n",
       "      <th>day</th>\n",
       "      <th>month</th>\n",
       "      <th>year</th>\n",
       "      <th>Date</th>\n",
       "      <th>order_canceled</th>\n",
       "    </tr>\n",
       "  </thead>\n",
       "  <tbody>\n",
       "    <tr>\n",
       "      <th>0</th>\n",
       "      <td>536365</td>\n",
       "      <td>85123A</td>\n",
       "      <td>WHITE HANGING HEART T-LIGHT HOLDER</td>\n",
       "      <td>6</td>\n",
       "      <td>12/1/2010 8:26</td>\n",
       "      <td>2.55</td>\n",
       "      <td>17850.0</td>\n",
       "      <td>United Kingdom</td>\n",
       "      <td>1</td>\n",
       "      <td>12</td>\n",
       "      <td>2010</td>\n",
       "      <td>2010-12-01</td>\n",
       "      <td>0</td>\n",
       "    </tr>\n",
       "    <tr>\n",
       "      <th>1</th>\n",
       "      <td>536365</td>\n",
       "      <td>71053</td>\n",
       "      <td>WHITE METAL LANTERN</td>\n",
       "      <td>6</td>\n",
       "      <td>12/1/2010 8:26</td>\n",
       "      <td>3.39</td>\n",
       "      <td>17850.0</td>\n",
       "      <td>United Kingdom</td>\n",
       "      <td>1</td>\n",
       "      <td>12</td>\n",
       "      <td>2010</td>\n",
       "      <td>2010-12-01</td>\n",
       "      <td>0</td>\n",
       "    </tr>\n",
       "    <tr>\n",
       "      <th>2</th>\n",
       "      <td>536365</td>\n",
       "      <td>84406B</td>\n",
       "      <td>CREAM CUPID HEARTS COAT HANGER</td>\n",
       "      <td>8</td>\n",
       "      <td>12/1/2010 8:26</td>\n",
       "      <td>2.75</td>\n",
       "      <td>17850.0</td>\n",
       "      <td>United Kingdom</td>\n",
       "      <td>1</td>\n",
       "      <td>12</td>\n",
       "      <td>2010</td>\n",
       "      <td>2010-12-01</td>\n",
       "      <td>0</td>\n",
       "    </tr>\n",
       "    <tr>\n",
       "      <th>3</th>\n",
       "      <td>536365</td>\n",
       "      <td>84029G</td>\n",
       "      <td>KNITTED UNION FLAG HOT WATER BOTTLE</td>\n",
       "      <td>6</td>\n",
       "      <td>12/1/2010 8:26</td>\n",
       "      <td>3.39</td>\n",
       "      <td>17850.0</td>\n",
       "      <td>United Kingdom</td>\n",
       "      <td>1</td>\n",
       "      <td>12</td>\n",
       "      <td>2010</td>\n",
       "      <td>2010-12-01</td>\n",
       "      <td>0</td>\n",
       "    </tr>\n",
       "    <tr>\n",
       "      <th>4</th>\n",
       "      <td>536365</td>\n",
       "      <td>84029E</td>\n",
       "      <td>RED WOOLLY HOTTIE WHITE HEART.</td>\n",
       "      <td>6</td>\n",
       "      <td>12/1/2010 8:26</td>\n",
       "      <td>3.39</td>\n",
       "      <td>17850.0</td>\n",
       "      <td>United Kingdom</td>\n",
       "      <td>1</td>\n",
       "      <td>12</td>\n",
       "      <td>2010</td>\n",
       "      <td>2010-12-01</td>\n",
       "      <td>0</td>\n",
       "    </tr>\n",
       "  </tbody>\n",
       "</table>\n",
       "</div>"
      ],
      "text/plain": [
       "  InvoiceNo StockCode                          Description  Quantity  \\\n",
       "0    536365    85123A   WHITE HANGING HEART T-LIGHT HOLDER         6   \n",
       "1    536365     71053                  WHITE METAL LANTERN         6   \n",
       "2    536365    84406B       CREAM CUPID HEARTS COAT HANGER         8   \n",
       "3    536365    84029G  KNITTED UNION FLAG HOT WATER BOTTLE         6   \n",
       "4    536365    84029E       RED WOOLLY HOTTIE WHITE HEART.         6   \n",
       "\n",
       "      InvoiceDate  UnitPrice  CustomerID         Country  day  month  year  \\\n",
       "0  12/1/2010 8:26       2.55     17850.0  United Kingdom    1     12  2010   \n",
       "1  12/1/2010 8:26       3.39     17850.0  United Kingdom    1     12  2010   \n",
       "2  12/1/2010 8:26       2.75     17850.0  United Kingdom    1     12  2010   \n",
       "3  12/1/2010 8:26       3.39     17850.0  United Kingdom    1     12  2010   \n",
       "4  12/1/2010 8:26       3.39     17850.0  United Kingdom    1     12  2010   \n",
       "\n",
       "         Date  order_canceled  \n",
       "0  2010-12-01               0  \n",
       "1  2010-12-01               0  \n",
       "2  2010-12-01               0  \n",
       "3  2010-12-01               0  \n",
       "4  2010-12-01               0  "
      ]
     },
     "metadata": {},
     "output_type": "display_data"
    },
    {
     "name": "stdout",
     "output_type": "stream",
     "text": [
      "Number of orders canceled: 9251/536641 (1.72%) \n"
     ]
    }
   ],
   "source": [
    "df['order_canceled'] = df['InvoiceNo'].apply(lambda x:int('C' in x))\n",
    "display(df[:5])\n",
    "#______________________________________________________________________________________________\n",
    "n1 = df['order_canceled'].sum()\n",
    "n2 = df.shape[0]\n",
    "print('Number of orders canceled: {}/{} ({:.2f}%) '.format(n1, n2, n1/n2*100))\n"
   ]
  },
  {
   "cell_type": "code",
   "execution_count": 34,
   "id": "24f5ca99",
   "metadata": {
    "execution": {
     "iopub.execute_input": "2023-01-20T19:38:32.020613Z",
     "iopub.status.busy": "2023-01-20T19:38:32.020213Z",
     "iopub.status.idle": "2023-01-20T19:38:32.094699Z",
     "shell.execute_reply": "2023-01-20T19:38:32.093085Z"
    },
    "papermill": {
     "duration": 0.093011,
     "end_time": "2023-01-20T19:38:32.097534",
     "exception": false,
     "start_time": "2023-01-20T19:38:32.004523",
     "status": "completed"
    },
    "tags": []
   },
   "outputs": [],
   "source": [
    "n=df[df['order_canceled'] == 1] \n",
    "p=df[df['order_canceled'] == 0]"
   ]
  },
  {
   "cell_type": "code",
   "execution_count": 35,
   "id": "041bc426",
   "metadata": {
    "execution": {
     "iopub.execute_input": "2023-01-20T19:38:32.126406Z",
     "iopub.status.busy": "2023-01-20T19:38:32.126057Z",
     "iopub.status.idle": "2023-01-20T19:38:32.261983Z",
     "shell.execute_reply": "2023-01-20T19:38:32.260972Z"
    },
    "papermill": {
     "duration": 0.152317,
     "end_time": "2023-01-20T19:38:32.263889",
     "exception": false,
     "start_time": "2023-01-20T19:38:32.111572",
     "status": "completed"
    },
    "tags": []
   },
   "outputs": [
    {
     "data": {
      "image/png": "[encoded data removed]",
      "text/plain": [
       "<Figure size 432x288 with 1 Axes>"
      ]
     },
     "metadata": {
      "needs_background": "light"
     },
     "output_type": "display_data"
    }
   ],
   "source": [
    "n.groupby(\"month\")[\"order_canceled\"].size().plot.bar()\n",
    "plt.title(\"Cancelled Order vs Month  \")\n",
    "# plt.legend( )\n",
    "plt.show()"
   ]
  },
  {
   "cell_type": "code",
   "execution_count": 36,
   "id": "4c61a705",
   "metadata": {
    "execution": {
     "iopub.execute_input": "2023-01-20T19:38:32.296624Z",
     "iopub.status.busy": "2023-01-20T19:38:32.295044Z",
     "iopub.status.idle": "2023-01-20T19:38:32.468103Z",
     "shell.execute_reply": "2023-01-20T19:38:32.467275Z"
    },
    "papermill": {
     "duration": 0.189452,
     "end_time": "2023-01-20T19:38:32.469948",
     "exception": false,
     "start_time": "2023-01-20T19:38:32.280496",
     "status": "completed"
    },
    "tags": []
   },
   "outputs": [
    {
     "data": {
      "image/png": "[encoded data removed]",
      "text/plain": [
       "<Figure size 432x288 with 1 Axes>"
      ]
     },
     "metadata": {
      "needs_background": "light"
     },
     "output_type": "display_data"
    }
   ],
   "source": [
    "p.groupby(\"month\")[\"order_canceled\"].size().plot.bar()\n",
    "plt.title(\"Orders vs Month   \")\n",
    "# plt.legend( )\n",
    "plt.show()"
   ]
  },
  {
   "cell_type": "code",
   "execution_count": 37,
   "id": "cdc3d141",
   "metadata": {
    "execution": {
     "iopub.execute_input": "2023-01-20T19:38:32.498377Z",
     "iopub.status.busy": "2023-01-20T19:38:32.497986Z",
     "iopub.status.idle": "2023-01-20T19:38:32.632587Z",
     "shell.execute_reply": "2023-01-20T19:38:32.631859Z"
    },
    "papermill": {
     "duration": 0.151023,
     "end_time": "2023-01-20T19:38:32.634334",
     "exception": false,
     "start_time": "2023-01-20T19:38:32.483311",
     "status": "completed"
    },
    "tags": []
   },
   "outputs": [
    {
     "data": {
      "image/png": "[encoded data removed]",
      "text/plain": [
       "<Figure size 432x288 with 1 Axes>"
      ]
     },
     "metadata": {
      "needs_background": "light"
     },
     "output_type": "display_data"
    }
   ],
   "source": [
    "n.groupby(\"Country\")[\"order_canceled\"].size().sort_values(ascending=False).head().plot.bar()\n",
    "plt.title(\"Cancelled Orders vs Country  \")\n",
    "# plt.legend( )\n",
    "plt.show()"
   ]
  },
  {
   "cell_type": "code",
   "execution_count": 38,
   "id": "afec5449",
   "metadata": {
    "execution": {
     "iopub.execute_input": "2023-01-20T19:38:32.663599Z",
     "iopub.status.busy": "2023-01-20T19:38:32.662229Z",
     "iopub.status.idle": "2023-01-20T19:38:32.823270Z",
     "shell.execute_reply": "2023-01-20T19:38:32.822531Z"
    },
    "papermill": {
     "duration": 0.176487,
     "end_time": "2023-01-20T19:38:32.824984",
     "exception": false,
     "start_time": "2023-01-20T19:38:32.648497",
     "status": "completed"
    },
    "tags": []
   },
   "outputs": [
    {
     "data": {
      "image/png": "[encoded data removed]",
      "text/plain": [
       "<Figure size 432x288 with 1 Axes>"
      ]
     },
     "metadata": {
      "needs_background": "light"
     },
     "output_type": "display_data"
    }
   ],
   "source": [
    "p.groupby(\"Country\")[\"order_canceled\"].size().sort_values(ascending=False).head().plot.bar()\n",
    "plt.title(\"Orders vs Country   \")\n",
    "# plt.legend( )\n",
    "plt.show()"
   ]
  },
  {
   "cell_type": "code",
   "execution_count": 39,
   "id": "0592c089",
   "metadata": {
    "execution": {
     "iopub.execute_input": "2023-01-20T19:38:32.858314Z",
     "iopub.status.busy": "2023-01-20T19:38:32.856942Z",
     "iopub.status.idle": "2023-01-20T19:38:33.029497Z",
     "shell.execute_reply": "2023-01-20T19:38:33.028769Z"
    },
    "papermill": {
     "duration": 0.188293,
     "end_time": "2023-01-20T19:38:33.031084",
     "exception": false,
     "start_time": "2023-01-20T19:38:32.842791",
     "status": "completed"
    },
    "tags": []
   },
   "outputs": [
    {
     "data": {
      "image/png": "[encoded data removed]",
      "text/plain": [
       "<Figure size 720x648 with 1 Axes>"
      ]
     },
     "metadata": {
      "needs_background": "light"
     },
     "output_type": "display_data"
    }
   ],
   "source": [
    "plt.figure(figsize=(10,9)) \n",
    "p.groupby(\"month\")[\"Quantity\"].sum().plot.line()\n",
    "n.groupby(\"month\")[\"Quantity\"].sum().plot.line()\n",
    "plt.title(\"Month vs Quantity\")\n",
    "plt.legend([\"Quantity of Cancelled Order\",\"Quantity of retained Order\"])\n",
    "\n",
    "plt.show()"
   ]
  },
  {
   "cell_type": "code",
   "execution_count": 40,
   "id": "d93e1e1d",
   "metadata": {
    "execution": {
     "iopub.execute_input": "2023-01-20T19:38:33.062345Z",
     "iopub.status.busy": "2023-01-20T19:38:33.061153Z",
     "iopub.status.idle": "2023-01-20T19:38:33.266331Z",
     "shell.execute_reply": "2023-01-20T19:38:33.264373Z"
    },
    "papermill": {
     "duration": 0.223822,
     "end_time": "2023-01-20T19:38:33.269342",
     "exception": false,
     "start_time": "2023-01-20T19:38:33.045520",
     "status": "completed"
    },
    "tags": []
   },
   "outputs": [
    {
     "data": {
      "image/png": "[encoded data removed]",
      "text/plain": [
       "<Figure size 720x648 with 1 Axes>"
      ]
     },
     "metadata": {
      "needs_background": "light"
     },
     "output_type": "display_data"
    }
   ],
   "source": [
    "plt.figure(figsize=(10,9)) \n",
    "p.groupby(\"month\")[\"UnitPrice\"].sum().plot.line()\n",
    "n.groupby(\"month\")[\"UnitPrice\"].sum().plot.line()\n",
    "plt.title(\"Month vs UnitPrice\")\n",
    "plt.legend([\"Price of Cancelled Order\",\"Price of retained Order\"])\n",
    "plt.show()"
   ]
  },
  {
   "cell_type": "code",
   "execution_count": 41,
   "id": "916ab48f",
   "metadata": {
    "execution": {
     "iopub.execute_input": "2023-01-20T19:38:33.304580Z",
     "iopub.status.busy": "2023-01-20T19:38:33.303979Z",
     "iopub.status.idle": "2023-01-20T19:38:33.308893Z",
     "shell.execute_reply": "2023-01-20T19:38:33.307857Z"
    },
    "papermill": {
     "duration": 0.025106,
     "end_time": "2023-01-20T19:38:33.311089",
     "exception": false,
     "start_time": "2023-01-20T19:38:33.285983",
     "status": "completed"
    },
    "tags": []
   },
   "outputs": [],
   "source": [
    "# f, ax = plt.subplots(1, 1)\n",
    "# ax=sns.lineplot(data=n,x=\"hour\",y=\"Amount\" ,color='red' ,label=\"Fraud\",ci=None)\n",
    "# sns.lineplot(data=p,x=\"hour\",y=\"Amount\" ,color='green',  label=\"Normal\",ax=ax,ci=None)\n",
    "# # plt.legend([\"Frauda\",\"Normal\"])\n",
    "# plt.title(\"Hour vs Amount\")\n",
    "# plt.show()"
   ]
  },
  {
   "cell_type": "code",
   "execution_count": null,
   "id": "e5f1afa8",
   "metadata": {
    "papermill": {
     "duration": 0.015489,
     "end_time": "2023-01-20T19:38:33.342524",
     "exception": false,
     "start_time": "2023-01-20T19:38:33.327035",
     "status": "completed"
    },
    "tags": []
   },
   "outputs": [],
   "source": []
  },
  {
   "cell_type": "code",
   "execution_count": 42,
   "id": "4e4a755a",
   "metadata": {
    "execution": {
     "iopub.execute_input": "2023-01-20T19:38:33.377831Z",
     "iopub.status.busy": "2023-01-20T19:38:33.376978Z",
     "iopub.status.idle": "2023-01-20T19:38:33.384260Z",
     "shell.execute_reply": "2023-01-20T19:38:33.382454Z"
    },
    "papermill": {
     "duration": 0.027806,
     "end_time": "2023-01-20T19:38:33.386731",
     "exception": false,
     "start_time": "2023-01-20T19:38:33.358925",
     "status": "completed"
    },
    "tags": []
   },
   "outputs": [],
   "source": [
    "# df.dropna( )"
   ]
  },
  {
   "cell_type": "code",
   "execution_count": 43,
   "id": "75c537aa",
   "metadata": {
    "execution": {
     "iopub.execute_input": "2023-01-20T19:38:33.422045Z",
     "iopub.status.busy": "2023-01-20T19:38:33.421689Z",
     "iopub.status.idle": "2023-01-20T19:38:34.356509Z",
     "shell.execute_reply": "2023-01-20T19:38:34.354863Z"
    },
    "papermill": {
     "duration": 0.956002,
     "end_time": "2023-01-20T19:38:34.359056",
     "exception": false,
     "start_time": "2023-01-20T19:38:33.403054",
     "status": "completed"
    },
    "tags": []
   },
   "outputs": [
    {
     "name": "stderr",
     "output_type": "stream",
     "text": [
      "/opt/conda/lib/python3.7/site-packages/seaborn/_decorators.py:43: FutureWarning: Pass the following variable as a keyword arg: x. From version 0.12, the only valid positional argument will be `data`, and passing other arguments without an explicit keyword will result in an error or misinterpretation.\n",
      "  FutureWarning\n",
      "/opt/conda/lib/python3.7/site-packages/seaborn/_decorators.py:43: FutureWarning: Pass the following variable as a keyword arg: x. From version 0.12, the only valid positional argument will be `data`, and passing other arguments without an explicit keyword will result in an error or misinterpretation.\n",
      "  FutureWarning\n",
      "/opt/conda/lib/python3.7/site-packages/seaborn/_decorators.py:43: FutureWarning: Pass the following variable as a keyword arg: x. From version 0.12, the only valid positional argument will be `data`, and passing other arguments without an explicit keyword will result in an error or misinterpretation.\n",
      "  FutureWarning\n",
      "/opt/conda/lib/python3.7/site-packages/seaborn/_decorators.py:43: FutureWarning: Pass the following variable as a keyword arg: x. From version 0.12, the only valid positional argument will be `data`, and passing other arguments without an explicit keyword will result in an error or misinterpretation.\n",
      "  FutureWarning\n",
      "/opt/conda/lib/python3.7/site-packages/seaborn/_decorators.py:43: FutureWarning: Pass the following variable as a keyword arg: x. From version 0.12, the only valid positional argument will be `data`, and passing other arguments without an explicit keyword will result in an error or misinterpretation.\n",
      "  FutureWarning\n",
      "/opt/conda/lib/python3.7/site-packages/seaborn/_decorators.py:43: FutureWarning: Pass the following variable as a keyword arg: x. From version 0.12, the only valid positional argument will be `data`, and passing other arguments without an explicit keyword will result in an error or misinterpretation.\n",
      "  FutureWarning\n"
     ]
    },
    {
     "data": {
      "image/png": "[encoded data removed]",
      "text/plain": [
       "<Figure size 2016x7200 with 6 Axes>"
      ]
     },
     "metadata": {
      "needs_background": "light"
     },
     "output_type": "display_data"
    }
   ],
   "source": [
    "draw_boxplot(numeric_columns)"
   ]
  },
  {
   "cell_type": "code",
   "execution_count": 44,
   "id": "8e65a42d",
   "metadata": {
    "execution": {
     "iopub.execute_input": "2023-01-20T19:38:34.394038Z",
     "iopub.status.busy": "2023-01-20T19:38:34.393682Z",
     "iopub.status.idle": "2023-01-20T19:38:35.441082Z",
     "shell.execute_reply": "2023-01-20T19:38:35.439985Z"
    },
    "papermill": {
     "duration": 1.067311,
     "end_time": "2023-01-20T19:38:35.442969",
     "exception": false,
     "start_time": "2023-01-20T19:38:34.375658",
     "status": "completed"
    },
    "tags": []
   },
   "outputs": [
    {
     "data": {
      "image/png": "[encoded data removed]",
      "text/plain": [
       "<Figure size 2016x7200 with 6 Axes>"
      ]
     },
     "metadata": {
      "needs_background": "light"
     },
     "output_type": "display_data"
    }
   ],
   "source": [
    "draw_hist(numeric_columns)"
   ]
  },
  {
   "cell_type": "code",
   "execution_count": 45,
   "id": "b33837b1",
   "metadata": {
    "execution": {
     "iopub.execute_input": "2023-01-20T19:38:35.478544Z",
     "iopub.status.busy": "2023-01-20T19:38:35.478188Z",
     "iopub.status.idle": "2023-01-20T19:38:49.008846Z",
     "shell.execute_reply": "2023-01-20T19:38:49.006979Z"
    },
    "papermill": {
     "duration": 13.552511,
     "end_time": "2023-01-20T19:38:49.012393",
     "exception": false,
     "start_time": "2023-01-20T19:38:35.459882",
     "status": "completed"
    },
    "tags": []
   },
   "outputs": [
    {
     "name": "stderr",
     "output_type": "stream",
     "text": [
      "/opt/conda/lib/python3.7/site-packages/seaborn/distributions.py:2619: FutureWarning: `distplot` is a deprecated function and will be removed in a future version. Please adapt your code to use either `displot` (a figure-level function with similar flexibility) or `histplot` (an axes-level function for histograms).\n",
      "  warnings.warn(msg, FutureWarning)\n",
      "/opt/conda/lib/python3.7/site-packages/seaborn/distributions.py:2619: FutureWarning: `distplot` is a deprecated function and will be removed in a future version. Please adapt your code to use either `displot` (a figure-level function with similar flexibility) or `histplot` (an axes-level function for histograms).\n",
      "  warnings.warn(msg, FutureWarning)\n",
      "/opt/conda/lib/python3.7/site-packages/seaborn/distributions.py:2619: FutureWarning: `distplot` is a deprecated function and will be removed in a future version. Please adapt your code to use either `displot` (a figure-level function with similar flexibility) or `histplot` (an axes-level function for histograms).\n",
      "  warnings.warn(msg, FutureWarning)\n",
      "/opt/conda/lib/python3.7/site-packages/seaborn/distributions.py:2619: FutureWarning: `distplot` is a deprecated function and will be removed in a future version. Please adapt your code to use either `displot` (a figure-level function with similar flexibility) or `histplot` (an axes-level function for histograms).\n",
      "  warnings.warn(msg, FutureWarning)\n",
      "/opt/conda/lib/python3.7/site-packages/seaborn/distributions.py:2619: FutureWarning: `distplot` is a deprecated function and will be removed in a future version. Please adapt your code to use either `displot` (a figure-level function with similar flexibility) or `histplot` (an axes-level function for histograms).\n",
      "  warnings.warn(msg, FutureWarning)\n",
      "/opt/conda/lib/python3.7/site-packages/seaborn/distributions.py:2619: FutureWarning: `distplot` is a deprecated function and will be removed in a future version. Please adapt your code to use either `displot` (a figure-level function with similar flexibility) or `histplot` (an axes-level function for histograms).\n",
      "  warnings.warn(msg, FutureWarning)\n"
     ]
    },
    {
     "data": {
      "image/png": "[encoded data removed]",
      "text/plain": [
       "<Figure size 2016x5760 with 6 Axes>"
      ]
     },
     "metadata": {
      "needs_background": "light"
     },
     "output_type": "display_data"
    }
   ],
   "source": [
    "draw_dist(numeric_columns)"
   ]
  },
  {
   "cell_type": "code",
   "execution_count": 46,
   "id": "2717bc06",
   "metadata": {
    "execution": {
     "iopub.execute_input": "2023-01-20T19:38:49.048479Z",
     "iopub.status.busy": "2023-01-20T19:38:49.048161Z",
     "iopub.status.idle": "2023-01-20T19:38:49.155976Z",
     "shell.execute_reply": "2023-01-20T19:38:49.154954Z"
    },
    "papermill": {
     "duration": 0.127884,
     "end_time": "2023-01-20T19:38:49.157771",
     "exception": false,
     "start_time": "2023-01-20T19:38:49.029887",
     "status": "completed"
    },
    "tags": []
   },
   "outputs": [
    {
     "data": {
      "text/html": [
       "<div>\n",
       "<style scoped>\n",
       "    .dataframe tbody tr th:only-of-type {\n",
       "        vertical-align: middle;\n",
       "    }\n",
       "\n",
       "    .dataframe tbody tr th {\n",
       "        vertical-align: top;\n",
       "    }\n",
       "\n",
       "    .dataframe thead th {\n",
       "        text-align: right;\n",
       "    }\n",
       "</style>\n",
       "<table border=\"1\" class=\"dataframe\">\n",
       "  <thead>\n",
       "    <tr style=\"text-align: right;\">\n",
       "      <th></th>\n",
       "      <th>CustomerID</th>\n",
       "      <th>InvoiceNo</th>\n",
       "      <th>Number of products</th>\n",
       "    </tr>\n",
       "  </thead>\n",
       "  <tbody>\n",
       "    <tr>\n",
       "      <th>0</th>\n",
       "      <td>12346.0</td>\n",
       "      <td>541431</td>\n",
       "      <td>1</td>\n",
       "    </tr>\n",
       "    <tr>\n",
       "      <th>1</th>\n",
       "      <td>12346.0</td>\n",
       "      <td>C541433</td>\n",
       "      <td>1</td>\n",
       "    </tr>\n",
       "    <tr>\n",
       "      <th>2</th>\n",
       "      <td>12347.0</td>\n",
       "      <td>537626</td>\n",
       "      <td>31</td>\n",
       "    </tr>\n",
       "    <tr>\n",
       "      <th>3</th>\n",
       "      <td>12347.0</td>\n",
       "      <td>542237</td>\n",
       "      <td>29</td>\n",
       "    </tr>\n",
       "    <tr>\n",
       "      <th>4</th>\n",
       "      <td>12347.0</td>\n",
       "      <td>549222</td>\n",
       "      <td>24</td>\n",
       "    </tr>\n",
       "    <tr>\n",
       "      <th>5</th>\n",
       "      <td>12347.0</td>\n",
       "      <td>556201</td>\n",
       "      <td>18</td>\n",
       "    </tr>\n",
       "    <tr>\n",
       "      <th>6</th>\n",
       "      <td>12347.0</td>\n",
       "      <td>562032</td>\n",
       "      <td>22</td>\n",
       "    </tr>\n",
       "    <tr>\n",
       "      <th>7</th>\n",
       "      <td>12347.0</td>\n",
       "      <td>573511</td>\n",
       "      <td>47</td>\n",
       "    </tr>\n",
       "    <tr>\n",
       "      <th>8</th>\n",
       "      <td>12347.0</td>\n",
       "      <td>581180</td>\n",
       "      <td>11</td>\n",
       "    </tr>\n",
       "    <tr>\n",
       "      <th>9</th>\n",
       "      <td>12348.0</td>\n",
       "      <td>539318</td>\n",
       "      <td>17</td>\n",
       "    </tr>\n",
       "  </tbody>\n",
       "</table>\n",
       "</div>"
      ],
      "text/plain": [
       "   CustomerID InvoiceNo  Number of products\n",
       "0     12346.0    541431                   1\n",
       "1     12346.0   C541433                   1\n",
       "2     12347.0    537626                  31\n",
       "3     12347.0    542237                  29\n",
       "4     12347.0    549222                  24\n",
       "5     12347.0    556201                  18\n",
       "6     12347.0    562032                  22\n",
       "7     12347.0    573511                  47\n",
       "8     12347.0    581180                  11\n",
       "9     12348.0    539318                  17"
      ]
     },
     "execution_count": 46,
     "metadata": {},
     "output_type": "execute_result"
    }
   ],
   "source": [
    "temp = df.groupby(by=['CustomerID', 'InvoiceNo'], as_index=False)['InvoiceDate'].count()\n",
    "bucket = temp.rename(columns = {'InvoiceDate':'Number of products'})\n",
    "bucket[:10].sort_values('CustomerID')\n"
   ]
  },
  {
   "cell_type": "code",
   "execution_count": 47,
   "id": "8cf19128",
   "metadata": {
    "execution": {
     "iopub.execute_input": "2023-01-20T19:38:49.193625Z",
     "iopub.status.busy": "2023-01-20T19:38:49.193330Z",
     "iopub.status.idle": "2023-01-20T19:38:49.479972Z",
     "shell.execute_reply": "2023-01-20T19:38:49.478590Z"
    },
    "papermill": {
     "duration": 0.307681,
     "end_time": "2023-01-20T19:38:49.482626",
     "exception": false,
     "start_time": "2023-01-20T19:38:49.174945",
     "status": "completed"
    },
    "tags": []
   },
   "outputs": [
    {
     "data": {
      "text/plain": [
       "array(['POST', 'D', 'C2', 'DOT', 'M', 'BANK CHARGES', 'S', 'AMAZONFEE',\n",
       "       'DCGS0076', 'DCGS0003', 'gift_0001_40', 'DCGS0070', 'm',\n",
       "       'gift_0001_50', 'gift_0001_30', 'gift_0001_20', 'DCGS0055',\n",
       "       'DCGS0072', 'DCGS0074', 'DCGS0069', 'DCGS0057', 'DCGSSBOY',\n",
       "       'DCGSSGIRL', 'gift_0001_10', 'PADS', 'DCGS0004', 'DCGS0073',\n",
       "       'DCGS0071', 'DCGS0068', 'DCGS0067', 'DCGS0066P', 'B', 'CRUK'],\n",
       "      dtype=object)"
      ]
     },
     "execution_count": 47,
     "metadata": {},
     "output_type": "execute_result"
    }
   ],
   "source": [
    "list_special_codes = df[df['StockCode'].str.contains('^[a-zA-Z]+', regex=True)]['StockCode'].unique()\n",
    "list_special_codes"
   ]
  },
  {
   "cell_type": "code",
   "execution_count": 48,
   "id": "fa058ceb",
   "metadata": {
    "execution": {
     "iopub.execute_input": "2023-01-20T19:38:49.523495Z",
     "iopub.status.busy": "2023-01-20T19:38:49.523149Z",
     "iopub.status.idle": "2023-01-20T19:38:50.513047Z",
     "shell.execute_reply": "2023-01-20T19:38:50.512072Z"
    },
    "papermill": {
     "duration": 1.012495,
     "end_time": "2023-01-20T19:38:50.514839",
     "exception": false,
     "start_time": "2023-01-20T19:38:49.502344",
     "status": "completed"
    },
    "tags": []
   },
   "outputs": [
    {
     "name": "stdout",
     "output_type": "stream",
     "text": [
      "POST            -> POSTAGE   \n",
      "D               -> Discount  \n",
      "C2              -> CARRIAGE  \n",
      "DOT             -> DOTCOM POSTAGE\n",
      "M               -> Manual    \n",
      "BANK CHARGES    -> Bank Charges\n",
      "S               -> SAMPLES   \n",
      "AMAZONFEE       -> AMAZON FEE\n",
      "DCGS0076        -> SUNJAR LED NIGHT NIGHT LIGHT\n",
      "DCGS0003        -> BOXED GLASS ASHTRAY\n",
      "gift_0001_40    -> Dotcomgiftshop Gift Voucher £40.00\n",
      "DCGS0070        -> CAMOUFLAGE DOG COLLAR\n",
      "m               -> Manual    \n",
      "gift_0001_50    -> Dotcomgiftshop Gift Voucher £50.00\n",
      "gift_0001_30    -> Dotcomgiftshop Gift Voucher £30.00\n",
      "gift_0001_20    -> Dotcomgiftshop Gift Voucher £20.00\n",
      "DCGS0055        -> nan       \n",
      "DCGS0072        -> nan       \n",
      "DCGS0074        -> nan       \n",
      "DCGS0069        -> OOH LA LA DOGS COLLAR\n",
      "DCGS0057        -> nan       \n",
      "DCGSSBOY        -> BOYS PARTY BAG\n",
      "DCGSSGIRL       -> GIRLS PARTY BAG\n",
      "gift_0001_10    -> Dotcomgiftshop Gift Voucher £10.00\n",
      "PADS            -> PADS TO MATCH ALL CUSHIONS\n",
      "DCGS0004        -> HAYNES CAMPER SHOULDER BAG\n",
      "DCGS0073        -> ebay      \n",
      "DCGS0071        -> nan       \n",
      "DCGS0068        -> ebay      \n",
      "DCGS0067        -> ebay      \n",
      "DCGS0066P       -> nan       \n",
      "B               -> Adjust bad debt\n",
      "CRUK            -> CRUK Commission\n"
     ]
    }
   ],
   "source": [
    "for code in list_special_codes:\n",
    "    print(\"{:<15} -> {:<10}\".format(code, df[df['StockCode'] == code]['Description'].unique()[0]))"
   ]
  },
  {
   "cell_type": "markdown",
   "id": "b4beb497",
   "metadata": {
    "papermill": {
     "duration": 0.01835,
     "end_time": "2023-01-20T19:38:50.552105",
     "exception": false,
     "start_time": "2023-01-20T19:38:50.533755",
     "status": "completed"
    },
    "tags": []
   },
   "source": []
  },
  {
   "cell_type": "code",
   "execution_count": 49,
   "id": "f7e8b960",
   "metadata": {
    "execution": {
     "iopub.execute_input": "2023-01-20T19:38:50.593697Z",
     "iopub.status.busy": "2023-01-20T19:38:50.593341Z",
     "iopub.status.idle": "2023-01-20T19:38:50.634444Z",
     "shell.execute_reply": "2023-01-20T19:38:50.632813Z"
    },
    "papermill": {
     "duration": 0.064968,
     "end_time": "2023-01-20T19:38:50.637249",
     "exception": false,
     "start_time": "2023-01-20T19:38:50.572281",
     "status": "completed"
    },
    "tags": []
   },
   "outputs": [],
   "source": [
    "df_produits = pd.DataFrame(df['Description'].unique()).rename(columns = {0:'Description'})"
   ]
  },
  {
   "cell_type": "code",
   "execution_count": 50,
   "id": "23f3885b",
   "metadata": {
    "execution": {
     "iopub.execute_input": "2023-01-20T19:38:50.679034Z",
     "iopub.status.busy": "2023-01-20T19:38:50.678662Z",
     "iopub.status.idle": "2023-01-20T19:38:50.691660Z",
     "shell.execute_reply": "2023-01-20T19:38:50.689851Z"
    },
    "papermill": {
     "duration": 0.037085,
     "end_time": "2023-01-20T19:38:50.694531",
     "exception": false,
     "start_time": "2023-01-20T19:38:50.657446",
     "status": "completed"
    },
    "tags": []
   },
   "outputs": [
    {
     "data": {
      "text/html": [
       "<div>\n",
       "<style scoped>\n",
       "    .dataframe tbody tr th:only-of-type {\n",
       "        vertical-align: middle;\n",
       "    }\n",
       "\n",
       "    .dataframe tbody tr th {\n",
       "        vertical-align: top;\n",
       "    }\n",
       "\n",
       "    .dataframe thead th {\n",
       "        text-align: right;\n",
       "    }\n",
       "</style>\n",
       "<table border=\"1\" class=\"dataframe\">\n",
       "  <thead>\n",
       "    <tr style=\"text-align: right;\">\n",
       "      <th></th>\n",
       "      <th>Description</th>\n",
       "    </tr>\n",
       "  </thead>\n",
       "  <tbody>\n",
       "    <tr>\n",
       "      <th>0</th>\n",
       "      <td>WHITE HANGING HEART T-LIGHT HOLDER</td>\n",
       "    </tr>\n",
       "    <tr>\n",
       "      <th>1</th>\n",
       "      <td>WHITE METAL LANTERN</td>\n",
       "    </tr>\n",
       "    <tr>\n",
       "      <th>2</th>\n",
       "      <td>CREAM CUPID HEARTS COAT HANGER</td>\n",
       "    </tr>\n",
       "    <tr>\n",
       "      <th>3</th>\n",
       "      <td>KNITTED UNION FLAG HOT WATER BOTTLE</td>\n",
       "    </tr>\n",
       "    <tr>\n",
       "      <th>4</th>\n",
       "      <td>RED WOOLLY HOTTIE WHITE HEART.</td>\n",
       "    </tr>\n",
       "    <tr>\n",
       "      <th>...</th>\n",
       "      <td>...</td>\n",
       "    </tr>\n",
       "    <tr>\n",
       "      <th>4219</th>\n",
       "      <td>????damages????</td>\n",
       "    </tr>\n",
       "    <tr>\n",
       "      <th>4220</th>\n",
       "      <td>mixed up</td>\n",
       "    </tr>\n",
       "    <tr>\n",
       "      <th>4221</th>\n",
       "      <td>lost</td>\n",
       "    </tr>\n",
       "    <tr>\n",
       "      <th>4222</th>\n",
       "      <td>CREAM HANGING HEART T-LIGHT HOLDER</td>\n",
       "    </tr>\n",
       "    <tr>\n",
       "      <th>4223</th>\n",
       "      <td>PAPER CRAFT , LITTLE BIRDIE</td>\n",
       "    </tr>\n",
       "  </tbody>\n",
       "</table>\n",
       "<p>4224 rows × 1 columns</p>\n",
       "</div>"
      ],
      "text/plain": [
       "                              Description\n",
       "0      WHITE HANGING HEART T-LIGHT HOLDER\n",
       "1                     WHITE METAL LANTERN\n",
       "2          CREAM CUPID HEARTS COAT HANGER\n",
       "3     KNITTED UNION FLAG HOT WATER BOTTLE\n",
       "4          RED WOOLLY HOTTIE WHITE HEART.\n",
       "...                                   ...\n",
       "4219                      ????damages????\n",
       "4220                             mixed up\n",
       "4221                                 lost\n",
       "4222   CREAM HANGING HEART T-LIGHT HOLDER\n",
       "4223          PAPER CRAFT , LITTLE BIRDIE\n",
       "\n",
       "[4224 rows x 1 columns]"
      ]
     },
     "execution_count": 50,
     "metadata": {},
     "output_type": "execute_result"
    }
   ],
   "source": [
    "df_produits"
   ]
  },
  {
   "cell_type": "code",
   "execution_count": 51,
   "id": "9684b0f9",
   "metadata": {
    "execution": {
     "iopub.execute_input": "2023-01-20T19:38:50.736308Z",
     "iopub.status.busy": "2023-01-20T19:38:50.735973Z",
     "iopub.status.idle": "2023-01-20T19:38:51.134256Z",
     "shell.execute_reply": "2023-01-20T19:38:51.133326Z"
    },
    "papermill": {
     "duration": 0.421655,
     "end_time": "2023-01-20T19:38:51.136536",
     "exception": false,
     "start_time": "2023-01-20T19:38:50.714881",
     "status": "completed"
    },
    "tags": []
   },
   "outputs": [
    {
     "data": {
      "image/png": "[encoded data removed]",
      "text/plain": [
       "<Figure size 864x576 with 2 Axes>"
      ]
     },
     "metadata": {
      "needs_background": "light"
     },
     "output_type": "display_data"
    }
   ],
   "source": [
    "plt.figure(figsize=(12,8))\n",
    "sns.heatmap(df.corr(), cmap='RdBu_r', annot=True, vmax=1, vmin=-1,fmt='.2f')\n",
    "plt.show()"
   ]
  }
 ],
 "metadata": {
  "kernelspec": {
   "display_name": "Python 3",
   "language": "python",
   "name": "python3"
  },
  "language_info": {
   "codemirror_mode": {
    "name": "ipython",
    "version": 3
   },
   "file_extension": ".py",
   "mimetype": "text/x-python",
   "name": "python",
   "nbconvert_exporter": "python",
   "pygments_lexer": "ipython3",
   "version": "3.7.12"
  },
  "papermill": {
   "default_parameters": {},
   "duration": 44.393942,
   "end_time": "2023-01-20T19:38:52.083168",
   "environment_variables": {},
   "exception": null,
   "input_path": "__notebook__.ipynb",
   "output_path": "__notebook__.ipynb",
   "parameters": {},
   "start_time": "2023-01-20T19:38:07.689226",
   "version": "2.3.4"
  }
 },
 "nbformat": 4,
 "nbformat_minor": 5
}
